{
 "cells": [
  {
   "cell_type": "markdown",
   "id": "65d29c70",
   "metadata": {},
   "source": [
    "### File Operation in Python \n",
    "\n",
    "\n",
    "File operation  means performing actions on files such as creating, opening, reading, writing, and closing them using Python code."
   ]
  },
  {
   "cell_type": "markdown",
   "id": "0de74718",
   "metadata": {},
   "source": [
    "\"r\" → read mode (default)\n",
    "\n",
    "\"w\" → write mode (creates/overwrites file)\n",
    "\n",
    "\"a\" → append mode (adds to end of file)\n",
    "\n",
    "\"b\" → binary mode (rb, wb)\n",
    "\n",
    "\"x\" → exclusive creation (error if file exists)"
   ]
  },
  {
   "cell_type": "code",
   "execution_count": 7,
   "id": "be82610f",
   "metadata": {},
   "outputs": [
    {
     "name": "stdout",
     "output_type": "stream",
     "text": [
      "Hello how are you?\n",
      "I am good \n",
      "chiru is my name \n",
      "Welcome to the course \n"
     ]
    }
   ],
   "source": [
    "## Read a whole file \n",
    "\n",
    "with open('example.txt','r') as file:\n",
    "    content=file.read()\n",
    "    print(content)"
   ]
  },
  {
   "cell_type": "code",
   "execution_count": 4,
   "id": "c65261f7",
   "metadata": {},
   "outputs": [
    {
     "name": "stdout",
     "output_type": "stream",
     "text": [
      "Hello how are you?\n",
      "\n",
      "I am good \n",
      "\n",
      "chiru is my name \n",
      "\n",
      "Welcome to the course \n"
     ]
    }
   ],
   "source": [
    "## Read a file line by line \n",
    "\n",
    "with open('example.txt','r') as file:\n",
    "    for line in file:\n",
    "        print(line)"
   ]
  },
  {
   "cell_type": "code",
   "execution_count": null,
   "id": "558e7b1d",
   "metadata": {},
   "outputs": [
    {
     "name": "stdout",
     "output_type": "stream",
     "text": [
      "Hello how are you?\n",
      "I am good\n",
      "chiru is my name\n",
      "Welcome to the course\n"
     ]
    }
   ],
   "source": [
    "##   .strip()\n",
    "\n",
    "with open('example.txt','r') as file:\n",
    "    for line in file:\n",
    "        print(line.strip()) ##   .strip():--it removes the empty space between two lines or newline character "
   ]
  },
  {
   "cell_type": "code",
   "execution_count": 9,
   "id": "6a389c59",
   "metadata": {},
   "outputs": [],
   "source": [
    "## writing a file(Overwriting)\n",
    "\n",
    "with open('example.txt','w') as file:\n",
    "    file.write('Hello World!\\n')\n",
    "    file.write('this is a new line.')"
   ]
  },
  {
   "cell_type": "code",
   "execution_count": 15,
   "id": "27dbaa6a",
   "metadata": {},
   "outputs": [],
   "source": [
    "## write a files (without overwriting)\n",
    "\n",
    "with open('example.txt','a') as file:\n",
    "    file.write(\"Append operation taking place! \\n\")"
   ]
  },
  {
   "cell_type": "code",
   "execution_count": null,
   "id": "8e953b61",
   "metadata": {},
   "outputs": [],
   "source": [
    "## writing a list of lines to a file \n",
    "\n",
    "lines=['manoj \\n','suhas \\n','chiru \\n']\n",
    "with open('example.txt','a') as file:\n",
    "    file.writelines(lines)"
   ]
  },
  {
   "cell_type": "code",
   "execution_count": null,
   "id": "9ba75c75",
   "metadata": {},
   "outputs": [],
   "source": [
    "## Binary Files \n",
    "\n",
    "# Writing to a binary files \n",
    "\n",
    "data=b'\\x00\\x01\\x02\\x03\\x04'\n",
    "with open('example.bin','wb') as file:  ##  'wb':---- write byte \n",
    "    file.write(data) "
   ]
  },
  {
   "cell_type": "code",
   "execution_count": 15,
   "id": "a8c07f76",
   "metadata": {},
   "outputs": [
    {
     "name": "stdout",
     "output_type": "stream",
     "text": [
      "b'\\x00\\x01\\x02\\x03\\x04'\n"
     ]
    }
   ],
   "source": [
    "## Reading a binary file\n",
    "\n",
    "with open('example.bin','rb') as file:  ##  'rb':---- read byte \n",
    "   content=file.read()\n",
    "   print(content)"
   ]
  },
  {
   "cell_type": "code",
   "execution_count": 20,
   "id": "f971c314",
   "metadata": {},
   "outputs": [],
   "source": [
    "## Read the content from source text files and write a destination text file \n",
    "\n",
    "\n",
    "# copying a text file \n",
    "\n",
    "with open('example.txt','r') as source_file:\n",
    "    content=source_file.read()\n",
    "\n",
    "with open('destination.txt','w') as destination_file:\n",
    "    destination_file.write(content)"
   ]
  },
  {
   "cell_type": "code",
   "execution_count": 17,
   "id": "cef9064a",
   "metadata": {},
   "outputs": [
    {
     "name": "stdout",
     "output_type": "stream",
     "text": [
      "Lines:3,words:7, character:9\n"
     ]
    }
   ],
   "source": [
    "## Read a text file and count number of lines,words,and characters\n",
    "## counting lines,words,and character in text file \n",
    "\n",
    "def count_text_file(file_path):\n",
    "    with open(file_path,'r') as file:\n",
    "        lines=file.readlines()\n",
    "        line_count=len(lines)\n",
    "        word_count=sum(len(line.split()) for line in lines)\n",
    "        char_count=sum(len(lines) for line in lines)\n",
    "    return line_count,word_count,char_count\n",
    "file_path='example.txt'\n",
    "lines,words,charcter = count_text_file(file_path)\n",
    "print(f'Lines:{lines},words:{words}, character:{charcter}')"
   ]
  },
  {
   "cell_type": "markdown",
   "id": "438131c0",
   "metadata": {},
   "source": [
    "w+ :-- it is the mode in python is used to open a file for both reading and writing. if the file does not exist,it will be created.if file exist,its content id trunched(ie. the file is overwritten)"
   ]
  },
  {
   "cell_type": "code",
   "execution_count": 18,
   "id": "3dbccbf6",
   "metadata": {},
   "outputs": [
    {
     "name": "stdout",
     "output_type": "stream",
     "text": [
      "Hello World\n",
      "This is a new line \n",
      " \n"
     ]
    }
   ],
   "source": [
    "## writing and them reading a file\n",
    "\n",
    "with open('example.txt','w+') as file:\n",
    "    file.write(\"Hello World\\n\")\n",
    "    file.write(\"This is a new line \\n \")\n",
    "\n",
    "    file.seek(0) ## move the file cursor to the beginning  on 'example.txt' file \n",
    "\n",
    "    ## read the content of the file \n",
    "\n",
    "    content=file.read()\n",
    "    print(content)"
   ]
  },
  {
   "cell_type": "code",
   "execution_count": null,
   "id": "41beaee0",
   "metadata": {},
   "outputs": [],
   "source": []
  }
 ],
 "metadata": {
  "kernelspec": {
   "display_name": "Python 3",
   "language": "python",
   "name": "python3"
  },
  "language_info": {
   "codemirror_mode": {
    "name": "ipython",
    "version": 3
   },
   "file_extension": ".py",
   "mimetype": "text/x-python",
   "name": "python",
   "nbconvert_exporter": "python",
   "pygments_lexer": "ipython3",
   "version": "3.13.0"
  }
 },
 "nbformat": 4,
 "nbformat_minor": 5
}
