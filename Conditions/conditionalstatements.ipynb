{
 "cells": [
  {
   "cell_type": "markdown",
   "id": "4586e2e1",
   "metadata": {},
   "source": [
    "### Conditional Statements"
   ]
  },
  {
   "cell_type": "code",
   "execution_count": 6,
   "id": "dccb7c51",
   "metadata": {},
   "outputs": [
    {
     "name": "stdout",
     "output_type": "stream",
     "text": [
      "you are allowed to vote in the election\n"
     ]
    }
   ],
   "source": [
    "## if statement\n",
    "age=20\n",
    "\n",
    "if age>=18:\n",
    "    print(\"you are allowed to vote in the election\")\n",
    "\n"
   ]
  },
  {
   "cell_type": "code",
   "execution_count": 7,
   "id": "b418ff4a",
   "metadata": {},
   "outputs": [
    {
     "data": {
      "text/plain": [
       "True"
      ]
     },
     "execution_count": 7,
     "metadata": {},
     "output_type": "execute_result"
    }
   ],
   "source": [
    "age>=18"
   ]
  },
  {
   "cell_type": "code",
   "execution_count": 1,
   "id": "37ed4607",
   "metadata": {},
   "outputs": [
    {
     "name": "stdout",
     "output_type": "stream",
     "text": [
      "you  r minor\n"
     ]
    }
   ],
   "source": [
    "## else statement\n",
    "\n",
    "age=15\n",
    "\n",
    "if age>=18:\n",
    "    print(\" you r eligibalr to voting\")\n",
    "else:\n",
    "    print(\"you  r minor\")\n"
   ]
  },
  {
   "cell_type": "code",
   "execution_count": 5,
   "id": "349d566b",
   "metadata": {},
   "outputs": [
    {
     "name": "stdout",
     "output_type": "stream",
     "text": [
      "you are teenager\n"
     ]
    }
   ],
   "source": [
    "## elif \n",
    "\n",
    "age=15\n",
    "\n",
    "if age<13:\n",
    "    print(\"you are child \")\n",
    "elif age<18:\n",
    "    print(\"you are teenager\")\n",
    "else:\n",
    "    print(\"you are adult\")"
   ]
  },
  {
   "cell_type": "code",
   "execution_count": 12,
   "id": "c826ddd4",
   "metadata": {},
   "outputs": [
    {
     "name": "stdout",
     "output_type": "stream",
     "text": [
      " The number is Zero or  negetive\n"
     ]
    }
   ],
   "source": [
    "## Nested Conditional Statements\n",
    "\n",
    "## You can place one or more if,elif or else statement inside another if,elif or else statement\n",
    "\n",
    "## number even,odd,negative\n",
    "\n",
    "num=int(input(\"Enter the number\"))\n",
    "\n",
    "if  num>0:\n",
    "    print(\"The number is positive\")\n",
    "    if num%2==0:\n",
    "        print(\"The no is even\")\n",
    "    else:\n",
    "        print(\"The no is odd \")\n",
    "else:\n",
    "    print(\" The number is Zero or  negetive\")\n",
    "\n"
   ]
  },
  {
   "cell_type": "code",
   "execution_count": null,
   "id": "a0a64631",
   "metadata": {},
   "outputs": [],
   "source": [
    "## Examples\n",
    "## if a year is leap year using conditiona satatment \n",
    "\n",
    "year=int(input(\"Enter the year\"))\n",
    "\n",
    "if year%4==0:\n",
    "    if year%100==0:\n",
    "        if year%400==0:\n",
    "            print(year,\"is a leap year\")\n",
    "        else:\n",
    "            print(year,\"is not a leap year\")\n",
    "    \n",
    "    else:\n",
    "        print(year,\"is a leap year\")\n",
    "\n",
    "else:\n",
    "    print(year,\"is not a leap year\")\n"
   ]
  },
  {
   "cell_type": "code",
   "execution_count": 20,
   "id": "b162c0ae",
   "metadata": {},
   "outputs": [
    {
     "name": "stdout",
     "output_type": "stream",
     "text": [
      "Result: 8.0\n"
     ]
    }
   ],
   "source": [
    "## Assigment\n",
    "\n",
    "## 1. Simple calculator program \n",
    "## take user input\n",
    "\n",
    "\n",
    "\n",
    "\n",
    "\n",
    "num1 = float(input(\"Enter first number: \"))\n",
    "num2 = float(input(\"Enter second number: \"))\n",
    "operator = input(\"Enter operator (+, -, *, /): \")\n",
    "\n",
    "\n",
    "if operator == \"+\":\n",
    "    result = num1 + num2\n",
    " \n",
    "elif operator == \"-\":\n",
    "    result = num1 - num2\n",
    "   \n",
    "elif operator == \"*\":\n",
    "    result = num1 * num2\n",
    "   \n",
    "elif operator == \"/\":\n",
    "    if num2 != 0: \n",
    "        result = num1 / num2\n",
    "        \n",
    "    else:\n",
    "        result=\"Error! Division by zero\"\n",
    "\n",
    "else:\n",
    "    result=\"Invalid operation\"\n",
    "    \n",
    "print(\"Result:\", result)\n",
    "    \n",
    "\n"
   ]
  },
  {
   "cell_type": "code",
   "execution_count": 22,
   "id": "f6bdb47d",
   "metadata": {},
   "outputs": [
    {
     "name": "stdout",
     "output_type": "stream",
     "text": [
      "Your ticket price is: $ 15\n"
     ]
    }
   ],
   "source": [
    "## Determine the ticket price based on age wether the person is a student\n",
    "# Ticket pricing based on age and student \n",
    "\n",
    "\n",
    "\n",
    "age = int(input(\"Enter your age: \"))\n",
    "student = input(\"Are you a student? (yes/no): \").lower()\n",
    "\n",
    "# Conditional statements\n",
    "if age < 12:\n",
    "    price = 5\n",
    "elif age >= 12 and age < 18:\n",
    "    if student == \"yes\":\n",
    "        price = 8\n",
    "    else:\n",
    "        price = 10\n",
    "else:# age >= 18\n",
    "    if student == \"yes\":\n",
    "        price = 12\n",
    "    else:\n",
    "        price = 15\n",
    "\n",
    "print(\"Your ticket price is: $\", price)\n"
   ]
  },
  {
   "cell_type": "code",
   "execution_count": 23,
   "id": "c3fccc47",
   "metadata": {},
   "outputs": [
    {
     "name": "stdout",
     "output_type": "stream",
     "text": [
      "ticket is 30\n"
     ]
    }
   ],
   "source": [
    "# or \n",
    "\n",
    "a=int(input(\"enter age:\"))\n",
    "if a<5:\n",
    "    print(\" ticket is 10 rs\")\n",
    "elif a<18:\n",
    "    print(\"ticket is 20 rs\")\n",
    "\n",
    "elif a<30:\n",
    "    print(\"ticket is 30\")\n",
    "else:\n",
    "    print(\"ticket is 100\")"
   ]
  },
  {
   "cell_type": "code",
   "execution_count": null,
   "id": "d8b88323",
   "metadata": {},
   "outputs": [],
   "source": []
  }
 ],
 "metadata": {
  "kernelspec": {
   "display_name": "Python 3",
   "language": "python",
   "name": "python3"
  },
  "language_info": {
   "codemirror_mode": {
    "name": "ipython",
    "version": 3
   },
   "file_extension": ".py",
   "mimetype": "text/x-python",
   "name": "python",
   "nbconvert_exporter": "python",
   "pygments_lexer": "ipython3",
   "version": "3.13.0"
  }
 },
 "nbformat": 4,
 "nbformat_minor": 5
}
