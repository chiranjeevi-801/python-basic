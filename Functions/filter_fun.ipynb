{
 "cells": [
  {
   "cell_type": "markdown",
   "id": "fc8f2f2b",
   "metadata": {},
   "source": [
    "### The filter() function in Python "
   ]
  },
  {
   "cell_type": "markdown",
   "id": "ed189458",
   "metadata": {},
   "source": [
    "the filter() function constructs from element of an itrable for which a function return true.it is used to filter out from out items from a list (or any iterable) based on a condition\n",
    "\n",
    "                                                               \n",
    "OR\n",
    "\n",
    "\n",
    "The filter() function is used to filter out elements from a sequence (like a list or tuple) based on a condition."
   ]
  },
  {
   "cell_type": "code",
   "execution_count": 3,
   "id": "ad414a50",
   "metadata": {},
   "outputs": [],
   "source": [
    "def even(num):\n",
    "    if num%2==0:\n",
    "        return True\n"
   ]
  },
  {
   "cell_type": "code",
   "execution_count": 4,
   "id": "218225ea",
   "metadata": {},
   "outputs": [
    {
     "data": {
      "text/plain": [
       "True"
      ]
     },
     "execution_count": 4,
     "metadata": {},
     "output_type": "execute_result"
    }
   ],
   "source": [
    "even(24)"
   ]
  },
  {
   "cell_type": "code",
   "execution_count": 5,
   "id": "420e8645",
   "metadata": {},
   "outputs": [
    {
     "data": {
      "text/plain": [
       "[2, 4, 6, 8, 10, 12]"
      ]
     },
     "execution_count": 5,
     "metadata": {},
     "output_type": "execute_result"
    }
   ],
   "source": [
    "##  In filter() function \n",
    "\n",
    "lst=[1,2,3,4,5,6,7,8,9,10,11,12]\n",
    "\n",
    "list(filter(even,lst))"
   ]
  },
  {
   "cell_type": "code",
   "execution_count": 8,
   "id": "d9f0c2ed",
   "metadata": {},
   "outputs": [
    {
     "name": "stdout",
     "output_type": "stream",
     "text": [
      "[6, 7, 8, 9]\n"
     ]
    }
   ],
   "source": [
    "## filter with a lambda function \n",
    "\n",
    "numbers=[1,2,3,4,5,6,7,8,9]\n",
    "greater_than_five=list(filter(lambda x:x>5,numbers))\n",
    "print(greater_than_five)"
   ]
  },
  {
   "cell_type": "code",
   "execution_count": null,
   "id": "ba4bab83",
   "metadata": {},
   "outputs": [
    {
     "name": "stdout",
     "output_type": "stream",
     "text": [
      "[6, 8, 12]\n"
     ]
    }
   ],
   "source": [
    "## filter with a lambda function and mutiple conditions  in LIST\n",
    "\n",
    "numbers=[1,2,3,4,5,6,7,8,9,0,11,12,13,15]\n",
    "even_and_greater_than_five=list(filter(lambda x:x>5 and x%2==0,numbers))\n",
    "print(even_and_greater_than_five)"
   ]
  },
  {
   "cell_type": "code",
   "execution_count": 12,
   "id": "0a990966",
   "metadata": {},
   "outputs": [
    {
     "data": {
      "text/plain": [
       "[{'name': 'chiru', 'age': 32}, {'name': 'ravi', 'age': 35}]"
      ]
     },
     "execution_count": 12,
     "metadata": {},
     "output_type": "execute_result"
    }
   ],
   "source": [
    "## filter() to check if the age is greater than 25 in dictionaries \n",
    "\n",
    "people=[\n",
    "    {'name':'chiru','age':32},\n",
    "    {'name':'ravi','age':35},\n",
    "    {'name':'ranga','age':25}\n",
    "\n",
    "]\n",
    "\n",
    "def age_greater_than_25(person):\n",
    "    return person['age']>25\n",
    "\n",
    "list(filter(age_greater_than_25,people))"
   ]
  },
  {
   "cell_type": "code",
   "execution_count": null,
   "id": "fc95c6bc",
   "metadata": {},
   "outputs": [],
   "source": []
  }
 ],
 "metadata": {
  "kernelspec": {
   "display_name": "Python 3",
   "language": "python",
   "name": "python3"
  },
  "language_info": {
   "codemirror_mode": {
    "name": "ipython",
    "version": 3
   },
   "file_extension": ".py",
   "mimetype": "text/x-python",
   "name": "python",
   "nbconvert_exporter": "python",
   "pygments_lexer": "ipython3",
   "version": "3.13.0"
  }
 },
 "nbformat": 4,
 "nbformat_minor": 5
}
