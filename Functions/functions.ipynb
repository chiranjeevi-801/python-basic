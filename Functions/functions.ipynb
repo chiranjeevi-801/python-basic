{
 "cells": [
  {
   "cell_type": "code",
   "execution_count": 1,
   "id": "a2b217d6",
   "metadata": {},
   "outputs": [],
   "source": [
    "## synax \n",
    "\n",
    "def function_num(parameters):\n",
    "    \"\"\"Docstring\"\"\"\n",
    "    # Function body\n",
    "    return expression\n"
   ]
  },
  {
   "cell_type": "code",
   "execution_count": 2,
   "id": "d4fdb3bb",
   "metadata": {},
   "outputs": [
    {
     "name": "stdout",
     "output_type": "stream",
     "text": [
      "even\n"
     ]
    }
   ],
   "source": [
    "## why function ?\n",
    "\n",
    "num=2\n",
    "if num%2==0:\n",
    "    print(\"even\")\n",
    "else:\n",
    "    print(\"odd\")"
   ]
  },
  {
   "cell_type": "code",
   "execution_count": null,
   "id": "d0802d7b",
   "metadata": {},
   "outputs": [],
   "source": [
    "\n",
    "def even_or_odd(num):\n",
    "    if num%2==0:\n",
    "        print(\"even\")\n",
    "    else:\n",
    "        print(\"odd\")\n"
   ]
  },
  {
   "cell_type": "code",
   "execution_count": 4,
   "id": "ddae1066",
   "metadata": {},
   "outputs": [
    {
     "name": "stdout",
     "output_type": "stream",
     "text": [
      "even\n"
     ]
    }
   ],
   "source": [
    "## call the function \n",
    "\n",
    "even_or_odd(34)"
   ]
  },
  {
   "cell_type": "code",
   "execution_count": 7,
   "id": "c1d976e9",
   "metadata": {},
   "outputs": [
    {
     "name": "stdout",
     "output_type": "stream",
     "text": [
      "6\n"
     ]
    }
   ],
   "source": [
    "## functions with multiple parameters\n",
    "\n",
    "def add(a,b):\n",
    "    return a+b\n",
    "result=add(2,4)\n",
    "print(result)"
   ]
  },
  {
   "cell_type": "code",
   "execution_count": 9,
   "id": "75c8ed85",
   "metadata": {},
   "outputs": [
    {
     "name": "stdout",
     "output_type": "stream",
     "text": [
      "Hello abhi Welcome to the Alvas \n"
     ]
    }
   ],
   "source": [
    "## Default parameters\n",
    "\n",
    "def greet(name):\n",
    "    print(f\"Hello {name} Welcome to the Alvas \")\n",
    "greet(\"abhi\")"
   ]
  },
  {
   "cell_type": "code",
   "execution_count": 12,
   "id": "60fc8a6b",
   "metadata": {},
   "outputs": [
    {
     "name": "stdout",
     "output_type": "stream",
     "text": [
      "Hello chiru Welcome to the Alvas \n"
     ]
    }
   ],
   "source": [
    "\n",
    "def greet(name=\"geust\"):  ## when we not geiven  \"name\" parameter the is showes error other wise u add parameter in (def  function  name=\"geust\" )  then it shows \"name+ guest \" then  it will run the code\n",
    "    print(f\"Hello {name} Welcome to the Alvas \")\n",
    "greet(\"chiru\")  ## u give here also \"name\" then it code runs with given name "
   ]
  },
  {
   "cell_type": "markdown",
   "id": "899a2571",
   "metadata": {},
   "source": [
    "### Variable length Arguments "
   ]
  },
  {
   "cell_type": "code",
   "execution_count": 13,
   "id": "e19451ff",
   "metadata": {},
   "outputs": [],
   "source": [
    "## Variable length Arguments\n",
    "\n",
    "\n",
    "## Positional And Keyword Arguments \n",
    "\n",
    "def print_numbers(*chiru):\n",
    "    for number in chiru:\n",
    "        print(number)\n",
    "\n"
   ]
  },
  {
   "cell_type": "code",
   "execution_count": 16,
   "id": "7bdd0103",
   "metadata": {},
   "outputs": [
    {
     "name": "stdout",
     "output_type": "stream",
     "text": [
      "1\n",
      "2\n",
      "3\n",
      "4\n",
      "5\n",
      "6\n",
      "7\n",
      "8\n",
      "9\n",
      "chiru\n"
     ]
    }
   ],
   "source": [
    "print_numbers(1,2,3,4,5,6,7,8,9,\"chiru\")"
   ]
  },
  {
   "cell_type": "code",
   "execution_count": 17,
   "id": "52300bbe",
   "metadata": {},
   "outputs": [],
   "source": [
    "## Positional Arguments\n",
    "\n",
    "def print_numbers(*args):\n",
    "    for number in args:\n",
    "        print(number)"
   ]
  },
  {
   "cell_type": "code",
   "execution_count": 18,
   "id": "aa8d995b",
   "metadata": {},
   "outputs": [
    {
     "name": "stdout",
     "output_type": "stream",
     "text": [
      "1\n",
      "2\n",
      "3\n",
      "4\n",
      "5\n",
      "6\n",
      "7\n",
      "8\n",
      "9\n",
      "chiru\n"
     ]
    }
   ],
   "source": [
    "print_numbers(1,2,3,4,5,6,7,8,9,\"chiru\")"
   ]
  },
  {
   "cell_type": "code",
   "execution_count": 27,
   "id": "7ae82f1c",
   "metadata": {},
   "outputs": [],
   "source": [
    "## Keywords Arguments \n",
    "\n",
    "\n",
    "def print_details(**kwargs):\n",
    "    for key,value in kwargs.items():\n",
    "        print(f\"{key}:{value}\")\n"
   ]
  },
  {
   "cell_type": "code",
   "execution_count": 28,
   "id": "5238cb07",
   "metadata": {},
   "outputs": [
    {
     "name": "stdout",
     "output_type": "stream",
     "text": [
      "name:chiru\n",
      "age:23\n",
      "country:India\n"
     ]
    }
   ],
   "source": [
    "print_details(name=\"chiru\",age=\"23\",country=\"India\")"
   ]
  },
  {
   "cell_type": "code",
   "execution_count": 3,
   "id": "fc163d96",
   "metadata": {},
   "outputs": [],
   "source": [
    "def print_details(*args,**kwargs):\n",
    "    for val  in args:\n",
    "        print(f\"Positional argument:{val}\")\n",
    "\n",
    "    for key,value in kwargs.items():\n",
    "        print(f\"{key}:{value}\")\n",
    "\n",
    "    "
   ]
  },
  {
   "cell_type": "code",
   "execution_count": 5,
   "id": "146bcd93",
   "metadata": {},
   "outputs": [
    {
     "name": "stdout",
     "output_type": "stream",
     "text": [
      "Positional argument:1\n",
      "Positional argument:2\n",
      "Positional argument:3\n",
      "Positional argument:4\n",
      "Positional argument:5\n",
      "Positional argument:6\n",
      "Positional argument:7\n",
      "Positional argument:8\n",
      "name:chiru\n",
      "age:23\n",
      "country:India\n"
     ]
    }
   ],
   "source": [
    "print_details(1,2,3,4,5,6,7,8,name=\"chiru\",age=\"23\",country=\"India\")"
   ]
  },
  {
   "cell_type": "code",
   "execution_count": 11,
   "id": "7670fa1d",
   "metadata": {},
   "outputs": [
    {
     "data": {
      "text/plain": [
       "6"
      ]
     },
     "execution_count": 11,
     "metadata": {},
     "output_type": "execute_result"
    }
   ],
   "source": [
    "## Retrun statement\n",
    "\n",
    "def multiply(a,b):\n",
    "    return a*b\n",
    "\n",
    "multiply(2,3)\n",
    "\n"
   ]
  },
  {
   "cell_type": "code",
   "execution_count": 16,
   "id": "ba0918c4",
   "metadata": {},
   "outputs": [
    {
     "data": {
      "text/plain": [
       "(5, 2)"
      ]
     },
     "execution_count": 16,
     "metadata": {},
     "output_type": "execute_result"
    }
   ],
   "source": [
    "## Retrun  multiple parameters \n",
    "\n",
    "def multiply(a,b):\n",
    "    return a+b, a\n",
    "\n",
    "multiply(2,3)"
   ]
  },
  {
   "cell_type": "code",
   "execution_count": 18,
   "id": "3e6575d4",
   "metadata": {},
   "outputs": [
    {
     "data": {
      "text/plain": [
       "(5, -1, 6, 2, 0.6666666666666666, 8, 0)"
      ]
     },
     "execution_count": 18,
     "metadata": {},
     "output_type": "execute_result"
    }
   ],
   "source": [
    "## Retrun  multiple parameters \n",
    "\n",
    "## example\n",
    "\n",
    "def multiply(a,b):\n",
    "    return a+b,a-b,a*b,a%b,a/b,a**b,a//b\n",
    "\n",
    "multiply(2,3)"
   ]
  },
  {
   "cell_type": "code",
   "execution_count": null,
   "id": "f5c83c25",
   "metadata": {},
   "outputs": [],
   "source": []
  }
 ],
 "metadata": {
  "kernelspec": {
   "display_name": "Python 3",
   "language": "python",
   "name": "python3"
  },
  "language_info": {
   "codemirror_mode": {
    "name": "ipython",
    "version": 3
   },
   "file_extension": ".py",
   "mimetype": "text/x-python",
   "name": "python",
   "nbconvert_exporter": "python",
   "pygments_lexer": "ipython3",
   "version": "3.13.0"
  }
 },
 "nbformat": 4,
 "nbformat_minor": 5
}
