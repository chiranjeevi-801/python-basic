{
 "cells": [
  {
   "cell_type": "markdown",
   "id": "270c0475",
   "metadata": {},
   "source": [
    "### Example 1: Temperature Convertion"
   ]
  },
  {
   "cell_type": "code",
   "execution_count": null,
   "id": "9820a2c4",
   "metadata": {},
   "outputs": [
    {
     "name": "stdout",
     "output_type": "stream",
     "text": [
      "77.0\n",
      "25.0\n"
     ]
    }
   ],
   "source": [
    "def convert_temprature(temp,unit):\n",
    "    \"\"\" this function converts temprature between celsius and fahrenheit\"\"\"\n",
    "    if unit=='c':\n",
    "        return temp*9/5+32 ## celsius to fahrenheit    { formula :-- F=C*9/5+32}\n",
    "    elif unit=='F':\n",
    "        return(temp-32)*5/9 ## Fahrenehit to celisus   { formula :-- C=(f-32)*5/9 }\n",
    "    else:\n",
    "        return None\n",
    "    \n",
    "print(convert_temprature(25,'c'))\n",
    "print(convert_temprature(77,'F'))\n",
    "\n"
   ]
  },
  {
   "cell_type": "markdown",
   "id": "47cfe2f6",
   "metadata": {},
   "source": [
    "### Example 2: Password strength checker "
   ]
  },
  {
   "cell_type": "code",
   "execution_count": 21,
   "id": "3b4b8931",
   "metadata": {},
   "outputs": [
    {
     "name": "stdout",
     "output_type": "stream",
     "text": [
      "False\n",
      "False\n",
      "True\n",
      "True\n"
     ]
    }
   ],
   "source": [
    "def is_strong_password(password):\n",
    "    \"\"\" this  fanction check if the password is strong or not \"\"\"\n",
    "    if len(password)<8:\n",
    "        return False\n",
    "    if not any(char.isdigit() for char in password):\n",
    "        return False\n",
    "    if not any (char.islower() for char in password):\n",
    "        return False\n",
    "    if not any(char.isupper() for char in password):\n",
    "        return False\n",
    "    if not any(char in '!@#$%()-+' for char  in password):\n",
    "        return  False \n",
    "    return True\n",
    " ## calling the fnction \n",
    "\n",
    "print(is_strong_password(\"Weakpwd\"))\n",
    "print(is_strong_password(\"Strongpwd!\"))\n",
    "print(is_strong_password(\"Str0ngPwd!\"))\n",
    "print(is_strong_password(\"Chiru@123\"))\n"
   ]
  },
  {
   "cell_type": "code",
   "execution_count": null,
   "id": "4465a296",
   "metadata": {},
   "outputs": [],
   "source": []
  }
 ],
 "metadata": {
  "kernelspec": {
   "display_name": "Python 3",
   "language": "python",
   "name": "python3"
  },
  "language_info": {
   "codemirror_mode": {
    "name": "ipython",
    "version": 3
   },
   "file_extension": ".py",
   "mimetype": "text/x-python",
   "name": "python",
   "nbconvert_exporter": "python",
   "pygments_lexer": "ipython3",
   "version": "3.13.0"
  }
 },
 "nbformat": 4,
 "nbformat_minor": 5
}
