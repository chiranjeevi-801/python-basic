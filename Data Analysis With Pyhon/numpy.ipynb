{
 "cells": [
  {
   "cell_type": "markdown",
   "id": "b2732c3c",
   "metadata": {},
   "source": [
    "### Numpy"
   ]
  },
  {
   "cell_type": "markdown",
   "id": "8522cbf2",
   "metadata": {},
   "source": [
    "NumPy is a Python library for numerical computing. It provides a powerful object called the ndarray (n-dimensional array) that allows you to store and perform mathematical operations on large datasets efficiently. NumPy is widely used in data science, machine learning, and scientific applications because it makes array and matrix operations fast and easy."
   ]
  },
  {
   "cell_type": "code",
   "execution_count": 1,
   "id": "5870fdee",
   "metadata": {},
   "outputs": [
    {
     "name": "stdout",
     "output_type": "stream",
     "text": [
      "Requirement already satisfied: numpy in c:\\users\\chira\\onedrive\\desktop\\python\\venv\\lib\\site-packages (2.3.2)\n"
     ]
    }
   ],
   "source": [
    "!pip install numpy "
   ]
  },
  {
   "cell_type": "code",
   "execution_count": null,
   "id": "d06cc9bd",
   "metadata": {},
   "outputs": [
    {
     "name": "stdout",
     "output_type": "stream",
     "text": [
      "[1 2 3 4 5]\n",
      "<class 'numpy.ndarray'>\n",
      "(5,)\n"
     ]
    }
   ],
   "source": [
    "import numpy as np\n",
    "\n",
    "## Create array using numpy\n",
    "## Create a 1D array \n",
    "\n",
    "arr1=np.array([1,2,3,4,5])\n",
    "print(arr1)\n",
    "print(type(arr1))\n",
    "print(arr1.shape) ## checking the shape \n",
    "                  ## output : (5,),it means 1D  ## The first number (5) = how many elements are in the array → here there are 5 numbers.\n",
    "\n",
    "                                                ## The comma ( , ) = tells us this is 1-dimensional (just a single row/line of numbers)./( “This is a 1D array with 5 elements.”)"
   ]
  },
  {
   "cell_type": "code",
   "execution_count": null,
   "id": "76ebeb9b",
   "metadata": {},
   "outputs": [
    {
     "data": {
      "text/plain": [
       "array([[1, 2, 3, 4, 5]])"
      ]
     },
     "execution_count": 8,
     "metadata": {},
     "output_type": "execute_result"
    }
   ],
   "source": [
    "## 1D array \n",
    "\n",
    "arr2=np.array([1,2,3,4,5])\n",
    "arr2.reshape(1,5)  ## it means 1 row and 5 colomns "
   ]
  },
  {
   "cell_type": "code",
   "execution_count": 11,
   "id": "7c38f5c9",
   "metadata": {},
   "outputs": [
    {
     "data": {
      "text/plain": [
       "(1, 5)"
      ]
     },
     "execution_count": 11,
     "metadata": {},
     "output_type": "execute_result"
    }
   ],
   "source": [
    "arr2=np.array([[1,2,3,4,5]])\n",
    "arr2.shape"
   ]
  },
  {
   "cell_type": "code",
   "execution_count": null,
   "id": "8aed5ecd",
   "metadata": {},
   "outputs": [
    {
     "name": "stdout",
     "output_type": "stream",
     "text": [
      "[[1 2 3 4 5]\n",
      " [2 3 4 5 6]]\n",
      "(2, 5)\n"
     ]
    }
   ],
   "source": [
    "## 2d array \n",
    "\n",
    "arr2=np.array([[1,2,3,4,5],[2,3,4,5,6]])\n",
    "print(arr2)\n",
    "print(arr2.shape)  ## 2 rows and 5 colomns "
   ]
  },
  {
   "cell_type": "code",
   "execution_count": null,
   "id": "767c4848",
   "metadata": {},
   "outputs": [
    {
     "data": {
      "text/plain": [
       "array([0, 2, 4, 6, 8])"
      ]
     },
     "execution_count": 14,
     "metadata": {},
     "output_type": "execute_result"
    }
   ],
   "source": [
    "np.arange(0,10,2)  ##Meaning (in simple words):\n",
    "#-> 0 → start from 0\n",
    "#-> 10 → go up to 10 (but not including 10)\n",
    "#-> 2 → step size (jump by 2 each time)\n",
    "\n"
   ]
  },
  {
   "cell_type": "code",
   "execution_count": 19,
   "id": "2b9183c1",
   "metadata": {},
   "outputs": [
    {
     "data": {
      "text/plain": [
       "array([[0],\n",
       "       [2],\n",
       "       [4],\n",
       "       [6],\n",
       "       [8]])"
      ]
     },
     "execution_count": 19,
     "metadata": {},
     "output_type": "execute_result"
    }
   ],
   "source": [
    "np.arange(0,10,2).reshape(5,1) ## 5 rows and 1 colomns "
   ]
  },
  {
   "cell_type": "code",
   "execution_count": 21,
   "id": "57a43a20",
   "metadata": {},
   "outputs": [
    {
     "data": {
      "text/plain": [
       "array([[1., 1., 1., 1.],\n",
       "       [1., 1., 1., 1.],\n",
       "       [1., 1., 1., 1.]])"
      ]
     },
     "execution_count": 21,
     "metadata": {},
     "output_type": "execute_result"
    }
   ],
   "source": [
    "np.ones((3,4))"
   ]
  },
  {
   "cell_type": "code",
   "execution_count": null,
   "id": "2e558d57",
   "metadata": {},
   "outputs": [
    {
     "data": {
      "text/plain": [
       "array([[1., 0., 0.],\n",
       "       [0., 1., 0.],\n",
       "       [0., 0., 1.]])"
      ]
     },
     "execution_count": 26,
     "metadata": {},
     "output_type": "execute_result"
    }
   ],
   "source": [
    "## identy matrix \n",
    "\n",
    "np.eye(3)  ## 3 by 3 matrix "
   ]
  },
  {
   "cell_type": "code",
   "execution_count": null,
   "id": "cd1745cc",
   "metadata": {},
   "outputs": [
    {
     "name": "stdout",
     "output_type": "stream",
     "text": [
      "Array:\n",
      " [[1 2 3]\n",
      " [4 5 6]]\n",
      "Shape: (2, 3)\n",
      "Number of domention: 2\n",
      "Size (number of leements): 6\n",
      "Data type: int64\n",
      "Item size(in btypes): 8\n"
     ]
    }
   ],
   "source": [
    "## Attributes of numpy\n",
    "\n",
    "arr =np.array([[1,2,3],[4,5,6]])\n",
    "\n",
    "print(\"Array:\\n\",arr) \n",
    "print(\"Shape:\",arr.shape)  ## output:  (2,3)\n",
    "print(\"Number of domentions:\",arr.ndim)  ## output: 2\n",
    "print(\"Size (number of leements):\",arr.size) ## ouyput: 6\n",
    "print(\"Data type:\",arr.dtype)  ## output : int64 (may vary based on platform)\n",
    "print(\"Item size(in btypes):\",arr.itemsize) ## output: 8 \n",
    "\n",
    "## bytes → built-in Python datatype for binary data.\n",
    "## btypes → not built-in; likely part of some external module."
   ]
  },
  {
   "cell_type": "code",
   "execution_count": 30,
   "id": "0a087d8d",
   "metadata": {},
   "outputs": [
    {
     "name": "stdout",
     "output_type": "stream",
     "text": [
      "Addition: [11 22 33 44 55]\n",
      "Substration: [ -9 -18 -27 -36 -45]\n",
      "Multiplication: [ 10  40  90 160 250]\n",
      "Division: [0.1 0.1 0.1 0.1 0.1]\n"
     ]
    }
   ],
   "source": [
    "## Numpy  Vectorized Operation \n",
    "arr1=np.array([1,2,3,4,5])\n",
    "arr2=np.array([10,20,30,40,50])\n",
    "\n",
    "## Element wise addition \n",
    "print(\"Addition:\",arr1+arr2)\n",
    "\n",
    "## Element wise Subdtraction\n",
    "print(\"Substration:\",arr1-arr2)\n",
    "\n",
    "## Element wise Multiplicatio\n",
    "print(\"Multiplication:\",arr1*arr2)\n",
    "\n",
    "## Element wise Division\n",
    "print(\"Division:\",arr1/arr2)"
   ]
  },
  {
   "cell_type": "code",
   "execution_count": 32,
   "id": "2b25da24",
   "metadata": {},
   "outputs": [
    {
     "name": "stdout",
     "output_type": "stream",
     "text": [
      "[  7.3890561   20.08553692  54.59815003 148.4131591  403.42879349]\n",
      "[ 0.90929743  0.14112001 -0.7568025  -0.95892427 -0.2794155 ]\n",
      "[0.69314718 1.09861229 1.38629436 1.60943791 1.79175947]\n"
     ]
    }
   ],
   "source": [
    "## Univarsal Function\n",
    "\n",
    "arr=np.array([2,3,4,5,6])\n",
    "\n",
    "## Square root \n",
    "print(np.exp(arr))\n",
    "\n",
    "## Sine\n",
    "print(np.sin(arr))\n",
    "\n",
    "## natural log \n",
    "print(np.log(arr))"
   ]
  },
  {
   "cell_type": "code",
   "execution_count": 33,
   "id": "40040ec6",
   "metadata": {},
   "outputs": [
    {
     "name": "stdout",
     "output_type": "stream",
     "text": [
      "Arrya: \n",
      " [[ 1  2  3  4]\n",
      " [ 5  6  7  8]\n",
      " [ 9 10 11 12]]\n"
     ]
    }
   ],
   "source": [
    "## Array Slicing and Indexing \n",
    "\n",
    "arr=np.array([[1,2,3,4],[5,6,7,8],[9,10,11,12]])\n",
    "print(\"Arrya: \\n\",arr)"
   ]
  },
  {
   "cell_type": "code",
   "execution_count": 43,
   "id": "b723ab43",
   "metadata": {},
   "outputs": [
    {
     "data": {
      "text/plain": [
       "np.int64(1)"
      ]
     },
     "execution_count": 43,
     "metadata": {},
     "output_type": "execute_result"
    }
   ],
   "source": [
    "arr[0][0]\n"
   ]
  },
  {
   "cell_type": "code",
   "execution_count": 46,
   "id": "b2f251be",
   "metadata": {},
   "outputs": [
    {
     "data": {
      "text/plain": [
       "array([[ 7,  8],\n",
       "       [11, 12]])"
      ]
     },
     "execution_count": 46,
     "metadata": {},
     "output_type": "execute_result"
    }
   ],
   "source": [
    "arr[1:,2:]"
   ]
  },
  {
   "cell_type": "code",
   "execution_count": null,
   "id": "3e9d62b5",
   "metadata": {},
   "outputs": [],
   "source": []
  }
 ],
 "metadata": {
  "kernelspec": {
   "display_name": "Python 3",
   "language": "python",
   "name": "python3"
  },
  "language_info": {
   "codemirror_mode": {
    "name": "ipython",
    "version": 3
   },
   "file_extension": ".py",
   "mimetype": "text/x-python",
   "name": "python",
   "nbconvert_exporter": "python",
   "pygments_lexer": "ipython3",
   "version": "3.13.0"
  }
 },
 "nbformat": 4,
 "nbformat_minor": 5
}
