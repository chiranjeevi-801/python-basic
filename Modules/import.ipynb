{
 "cells": [
  {
   "cell_type": "markdown",
   "id": "e93c339a",
   "metadata": {},
   "source": [
    "### Importing modules in python: \"Modules and Packages\""
   ]
  },
  {
   "cell_type": "markdown",
   "id": "e2282856",
   "metadata": {},
   "source": [
    "In python modules and packages help organize and reuse code.Here comprehensive guide on how to import them "
   ]
  },
  {
   "cell_type": "code",
   "execution_count": 11,
   "id": "ff86853c",
   "metadata": {},
   "outputs": [
    {
     "data": {
      "text/plain": [
       "6.0"
      ]
     },
     "execution_count": 11,
     "metadata": {},
     "output_type": "execute_result"
    }
   ],
   "source": [
    "import math\n",
    "math.sqrt(36)"
   ]
  },
  {
   "cell_type": "code",
   "execution_count": 12,
   "id": "c7649912",
   "metadata": {},
   "outputs": [
    {
     "name": "stdout",
     "output_type": "stream",
     "text": [
      "4.0\n",
      "5.0\n",
      "3.141592653589793\n"
     ]
    }
   ],
   "source": [
    "from math import sqrt,pi\n",
    "print(sqrt(16))\n",
    "print(sqrt(25))\n",
    "print(pi)"
   ]
  },
  {
   "cell_type": "markdown",
   "id": "18e4b941",
   "metadata": {},
   "source": [
    "### 🔹 Why we use NumPy in Python"
   ]
  },
  {
   "cell_type": "markdown",
   "id": "d18eabce",
   "metadata": {},
   "source": [
    "NumPy (Numerical Python) is a powerful library for working with numbers, arrays, and mathematical operations.\n"
   ]
  },
  {
   "cell_type": "code",
   "execution_count": 13,
   "id": "beb5e114",
   "metadata": {},
   "outputs": [
    {
     "data": {
      "text/plain": [
       "array([1, 2, 3, 4])"
      ]
     },
     "execution_count": 13,
     "metadata": {},
     "output_type": "execute_result"
    }
   ],
   "source": [
    "import numpy as np\n",
    "np.array([1,2,3,4])\n",
    "\n",
    "\n",
    "#numpy → the library.\n",
    "#np → alias (shortcut name).\n",
    "#np.array([1,2,3,4]) → converts a Python list into a NumPy array that supports fast mathematical operations.\n",
    "\n",
    "\n",
    "\n"
   ]
  },
  {
   "cell_type": "code",
   "execution_count": 16,
   "id": "06f6c538",
   "metadata": {},
   "outputs": [
    {
     "name": "stdout",
     "output_type": "stream",
     "text": [
      "4.0\n",
      "3.141592653589793\n"
     ]
    }
   ],
   "source": [
    "from math import*\n",
    "print(sqrt(16))\n",
    "print(pi)"
   ]
  },
  {
   "cell_type": "code",
   "execution_count": 25,
   "id": "3dc1922d",
   "metadata": {},
   "outputs": [
    {
     "name": "stdout",
     "output_type": "stream",
     "text": [
      "5\n"
     ]
    }
   ],
   "source": [
    "import sys\n",
    "import os\n",
    "\n",
    "# Path to the folder that contains maths.py\n",
    "module_path = r\"C:\\Users\\chira\\OneDrive\\Desktop\\PYTHON\\Modules\\package\"\n",
    "\n",
    "# Add it to sys.path so Python can find it\n",
    "sys.path.append(module_path)\n",
    "\n",
    "# Now import\n",
    "import maths\n",
    "\n",
    "print(maths.addition(2, 3))\n",
    "\n",
    "\n"
   ]
  },
  {
   "cell_type": "code",
   "execution_count": 20,
   "id": "2f18de5a",
   "metadata": {},
   "outputs": [
    {
     "ename": "AttributeError",
     "evalue": "module 'package.maths' has no attribute 'addition'",
     "output_type": "error",
     "traceback": [
      "\u001b[31m---------------------------------------------------------------------------\u001b[39m",
      "\u001b[31mAttributeError\u001b[39m                            Traceback (most recent call last)",
      "\u001b[36mCell\u001b[39m\u001b[36m \u001b[39m\u001b[32mIn[20]\u001b[39m\u001b[32m, line 2\u001b[39m\n\u001b[32m      1\u001b[39m \u001b[38;5;28;01mfrom\u001b[39;00m\u001b[38;5;250m \u001b[39m\u001b[34;01mpackage\u001b[39;00m\u001b[38;5;250m \u001b[39m\u001b[38;5;28;01mimport\u001b[39;00m maths\n\u001b[32m----> \u001b[39m\u001b[32m2\u001b[39m \u001b[43mmaths\u001b[49m\u001b[43m.\u001b[49m\u001b[43maddition\u001b[49m(\u001b[32m2\u001b[39m,\u001b[32m3\u001b[39m)\n",
      "\u001b[31mAttributeError\u001b[39m: module 'package.maths' has no attribute 'addition'"
     ]
    }
   ],
   "source": [
    "from package import maths\n",
    "maths.addition(2,3)"
   ]
  },
  {
   "cell_type": "code",
   "execution_count": null,
   "id": "5378261b",
   "metadata": {},
   "outputs": [],
   "source": []
  },
  {
   "cell_type": "code",
   "execution_count": null,
   "id": "18739133",
   "metadata": {},
   "outputs": [],
   "source": []
  }
 ],
 "metadata": {
  "kernelspec": {
   "display_name": "Python 3",
   "language": "python",
   "name": "python3"
  },
  "language_info": {
   "codemirror_mode": {
    "name": "ipython",
    "version": 3
   },
   "file_extension": ".py",
   "mimetype": "text/x-python",
   "name": "python",
   "nbconvert_exporter": "python",
   "pygments_lexer": "ipython3",
   "version": "3.13.0"
  }
 },
 "nbformat": 4,
 "nbformat_minor": 5
}
