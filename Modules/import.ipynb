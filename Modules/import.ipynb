{
 "cells": [
  {
   "cell_type": "markdown",
   "id": "e93c339a",
   "metadata": {},
   "source": [
    "### Importing modules in python: \"Modules and Packages\""
   ]
  },
  {
   "cell_type": "markdown",
   "id": "e2282856",
   "metadata": {},
   "source": [
    "In python modules and packages help organize and reuse code.Here comprehensive guide on how to import them "
   ]
  },
  {
   "cell_type": "code",
   "execution_count": null,
   "id": "ff86853c",
   "metadata": {
    "vscode": {
     "languageId": "plaintext"
    }
   },
   "outputs": [],
   "source": []
  }
 ],
 "metadata": {
  "language_info": {
   "name": "python"
  }
 },
 "nbformat": 4,
 "nbformat_minor": 5
}
