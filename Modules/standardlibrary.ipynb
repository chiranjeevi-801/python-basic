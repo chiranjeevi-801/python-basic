{
 "cells": [
  {
   "cell_type": "markdown",
   "id": "b4301db1",
   "metadata": {},
   "source": [
    "### satandard library overview \n",
    "\n",
    "The Python Standard Library (PSL) is a large collection of modules and packages that come bundled with Python itself.\n"
   ]
  },
  {
   "cell_type": "code",
   "execution_count": 1,
   "id": "143ba61f",
   "metadata": {},
   "outputs": [
    {
     "name": "stdout",
     "output_type": "stream",
     "text": [
      "array('i', [1, 2, 3, 4, 5])\n"
     ]
    }
   ],
   "source": [
    "import array \n",
    "arr=array.array('i',[1,2,3,4,5])\n",
    "print(arr)"
   ]
  },
  {
   "cell_type": "code",
   "execution_count": null,
   "id": "1cf52b99",
   "metadata": {},
   "outputs": [
    {
     "name": "stdout",
     "output_type": "stream",
     "text": [
      "4.0\n",
      "3.141592653589793\n"
     ]
    }
   ],
   "source": [
    "import math\n",
    "print(math.sqrt(16))\n",
    "print(math.pi)"
   ]
  },
  {
   "cell_type": "code",
   "execution_count": 8,
   "id": "ae0c9fe8",
   "metadata": {},
   "outputs": [
    {
     "name": "stdout",
     "output_type": "stream",
     "text": [
      "5\n",
      "cherry\n"
     ]
    }
   ],
   "source": [
    "## random :-- it is a inbuilt library\n",
    "## randint:- it is basically means it provides a any random integer based on value \n",
    "\n",
    "## random.choice:-- 🔹It returns a randomly selected element from a non-empty sequence.\n",
    "##                  🔹A sequence can be a list, tuple, or string.\n",
    "\n",
    "\n",
    "\n",
    "import random\n",
    "print(random.randint(1,10))\n",
    "print(random.choice(['apple','banana','cherry']))"
   ]
  },
  {
   "cell_type": "code",
   "execution_count": null,
   "id": "d3b709d9",
   "metadata": {},
   "outputs": [
    {
     "name": "stdout",
     "output_type": "stream",
     "text": [
      "c:\\Users\\chira\\OneDrive\\Desktop\\PYTHON\\Modules\n"
     ]
    }
   ],
   "source": [
    "## os (operating system) :- it used for file and dictiory access\n",
    "\n",
    "\n",
    "## file and dictiory access\n",
    "\n",
    "import os \n",
    "print(os.getcwd()) ## getcwd:-- “Get Current Working Directory”. \n"
   ]
  },
  {
   "cell_type": "code",
   "execution_count": null,
   "id": "e5dc4dbf",
   "metadata": {},
   "outputs": [],
   "source": [
    "\n",
    "os.mkdir('test_dir') ## it will create file in current folder"
   ]
  },
  {
   "cell_type": "code",
   "execution_count": null,
   "id": "58d8bd7a",
   "metadata": {},
   "outputs": [
    {
     "data": {
      "text/plain": [
       "'destination.txt'"
      ]
     },
     "execution_count": 16,
     "metadata": {},
     "output_type": "execute_result"
    }
   ],
   "source": [
    "## High level operarion on files and collecton of files \n",
    "\n",
    "import shutil  ## The shutil (shell utilities) module provides high-level file operations, such as copying, moving, deleting, and archiving files and directories.\n",
    "shutil.copyfile('source.txt','destination.txt')"
   ]
  },
  {
   "cell_type": "code",
   "execution_count": 18,
   "id": "c862501a",
   "metadata": {},
   "outputs": [
    {
     "name": "stdout",
     "output_type": "stream",
     "text": [
      "{\"name\": \"chiru\", \"age\": 25}\n",
      "<class 'str'>\n",
      "{'name': 'chiru', 'age': 25}\n",
      "<class 'dict'>\n"
     ]
    }
   ],
   "source": [
    "## Data Serialization\n",
    "\n",
    "\n",
    "import json\n",
    "data={'name':'chiru','age':25}\n",
    "\n",
    "json_str=json.dumps(data)\n",
    "print(json_str)\n",
    "print(type(json_str))\n",
    "\n",
    "parsed_data=json.loads(json_str)\n",
    "print(parsed_data)\n",
    "print(type(parsed_data))\n",
    "\n",
    "\n"
   ]
  },
  {
   "cell_type": "code",
   "execution_count": 37,
   "id": "cdb0ea24",
   "metadata": {},
   "outputs": [
    {
     "name": "stdout",
     "output_type": "stream",
     "text": [
      "['name', 'age']\n",
      "['chiru', '25']\n"
     ]
    }
   ],
   "source": [
    "## csv\n",
    "\n",
    "#🔹 What is CSV?\n",
    "#CSV = Comma-Separated Values file format.\n",
    "#Used to store tabular data (like Excel) in plain text.\n",
    "#Each line = one row, and values are separated by commas.\n",
    "\n",
    "import csv\n",
    "\n",
    "with open('example.csv',mode='w',newline='') as file:\n",
    "    writer=csv.writer(file)\n",
    "    writer.writerow(['name','age'])\n",
    "    writer.writerow(['chiru','25'])\n",
    "\n",
    "with open('example.csv',mode='r') as file:\n",
    "    reader=csv.reader(file)\n",
    "    for row in reader:\n",
    "        print(row)\n"
   ]
  },
  {
   "cell_type": "code",
   "execution_count": 26,
   "id": "24bdf894",
   "metadata": {},
   "outputs": [
    {
     "name": "stdout",
     "output_type": "stream",
     "text": [
      "2025-09-09 13:55:31.043633\n",
      "2025-09-08 13:55:31.043633\n"
     ]
    }
   ],
   "source": [
    "## datetime \n",
    "\n",
    "from datetime  import datetime,timedelta\n",
    "\n",
    "now=datetime.now()\n",
    "print(now)\n",
    "\n",
    "yesterday=now-timedelta(days=1)\n",
    "\n",
    "print(yesterday)"
   ]
  },
  {
   "cell_type": "code",
   "execution_count": null,
   "id": "a38e877b",
   "metadata": {},
   "outputs": [
    {
     "name": "stdout",
     "output_type": "stream",
     "text": [
      "1757406481.8553739\n",
      "1757406483.8560474\n"
     ]
    }
   ],
   "source": [
    "## time (sleep 2 second)\n",
    "\n",
    "import time\n",
    "print(time.time())\n",
    "time.sleep(2)\n",
    "print(time.time())\n"
   ]
  },
  {
   "cell_type": "code",
   "execution_count": 36,
   "id": "89205515",
   "metadata": {},
   "outputs": [
    {
     "name": "stdout",
     "output_type": "stream",
     "text": [
      "123\n"
     ]
    }
   ],
   "source": [
    "## regular expression \n",
    "\n",
    "## re :- regular, it is an library\n",
    "\n",
    "\n",
    "\n",
    "import re \n",
    "pattern=r'\\d+'\n",
    "text='There are 123 apples'\n",
    "match=re.search(pattern,text)\n",
    "print(match.group())\n"
   ]
  },
  {
   "cell_type": "code",
   "execution_count": null,
   "id": "34fa48c8",
   "metadata": {},
   "outputs": [],
   "source": []
  }
 ],
 "metadata": {
  "kernelspec": {
   "display_name": "Python 3",
   "language": "python",
   "name": "python3"
  },
  "language_info": {
   "codemirror_mode": {
    "name": "ipython",
    "version": 3
   },
   "file_extension": ".py",
   "mimetype": "text/x-python",
   "name": "python",
   "nbconvert_exporter": "python",
   "pygments_lexer": "ipython3",
   "version": "3.13.0"
  }
 },
 "nbformat": 4,
 "nbformat_minor": 5
}
