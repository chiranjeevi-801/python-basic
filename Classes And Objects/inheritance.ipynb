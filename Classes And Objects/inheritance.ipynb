{
 "cells": [
  {
   "cell_type": "markdown",
   "id": "03a3971e",
   "metadata": {},
   "source": [
    "### Inheritance in Python "
   ]
  },
  {
   "cell_type": "markdown",
   "id": "61f35f52",
   "metadata": {},
   "source": [
    "### It is a fundamental concept in Opp that allows a class to inherit attributes and methods from another class.this lesson covers single inheritance and multiple inheritance,demonstrating how to create and them  in python "
   ]
  },
  {
   "cell_type": "code",
   "execution_count": 8,
   "id": "97c4792b",
   "metadata": {},
   "outputs": [],
   "source": [
    "## Inheritance \n",
    "## Parent class\n",
    "## self :- It is a key word \n",
    "class Car:\n",
    "    def __init__(self, windows, doors, enginetype):\n",
    "        self.windows = windows\n",
    "        self.doors = doors\n",
    "        self.enginetype = enginetype\n",
    "\n",
    "    def drive(self):\n",
    "        print(f\"The person will drive the {self.enginetype} car \")\n",
    "\n"
   ]
  },
  {
   "cell_type": "code",
   "execution_count": 9,
   "id": "752b6ebf",
   "metadata": {},
   "outputs": [
    {
     "name": "stdout",
     "output_type": "stream",
     "text": [
      "The person will drive the petrol car \n",
      "None\n"
     ]
    }
   ],
   "source": [
    "car1=Car(4,5,\"petrol\")\n",
    "print(car1.drive())"
   ]
  },
  {
   "cell_type": "code",
   "execution_count": 8,
   "id": "b54cd0d2",
   "metadata": {},
   "outputs": [],
   "source": [
    "class Car:\n",
    "    def __init__(self, windows, doors, enginetype):\n",
    "        self.windows = windows\n",
    "        self.doors = doors\n",
    "        self.enginetype = enginetype\n",
    "\n",
    "class Tesla(Car):\n",
    "    def __init__(self, windows, doors, enginetype, is_selfdriving):\n",
    "        super().__init__(windows, doors, enginetype)  # ✅ works now\n",
    "        self.is_selfdriving = is_selfdriving\n",
    "\n",
    "    def selfdriving(self):\n",
    "        return \"This Tesla supports self driving!\" if self.is_selfdriving else \"No self driving feature.\"\n"
   ]
  },
  {
   "cell_type": "code",
   "execution_count": 9,
   "id": "6a6bfd98",
   "metadata": {},
   "outputs": [
    {
     "name": "stdout",
     "output_type": "stream",
     "text": [
      "This Tesla supports self driving!\n"
     ]
    }
   ],
   "source": [
    "tesla1 = Tesla(4, 5, \"electric\", True)\n",
    "print(tesla1.selfdriving())\n"
   ]
  },
  {
   "cell_type": "code",
   "execution_count": null,
   "id": "b9c1150c",
   "metadata": {},
   "outputs": [],
   "source": []
  }
 ],
 "metadata": {
  "kernelspec": {
   "display_name": "Python 3",
   "language": "python",
   "name": "python3"
  },
  "language_info": {
   "codemirror_mode": {
    "name": "ipython",
    "version": 3
   },
   "file_extension": ".py",
   "mimetype": "text/x-python",
   "name": "python",
   "nbconvert_exporter": "python",
   "pygments_lexer": "ipython3",
   "version": "3.13.0"
  }
 },
 "nbformat": 4,
 "nbformat_minor": 5
}
