{
 "cells": [
  {
   "cell_type": "markdown",
   "id": "01488b15",
   "metadata": {},
   "source": [
    "### Classes and Objects"
   ]
  },
  {
   "cell_type": "markdown",
   "id": "a920adca",
   "metadata": {},
   "source": [
    "Object-Orianted Programming(oop) is a programming Paradigm that uses \"object\" to design applications and computer programs.oop allows for modling real-world scenarious using classes and objects.This lesson covers the basics of creating classes objects,including instance variables and methods"
   ]
  },
  {
   "cell_type": "markdown",
   "id": "c9f71fd1",
   "metadata": {},
   "source": [
    "Class → A class is a blueprint for creating objects. It defines attributes (data) and methods (behavior).\n",
    "\n",
    "Object → An object is an instance of a class. It represents a real-world entity with its own data and behavior.\n"
   ]
  },
  {
   "cell_type": "code",
   "execution_count": null,
   "id": "8bf4e0d3",
   "metadata": {},
   "outputs": [
    {
     "name": "stdout",
     "output_type": "stream",
     "text": [
      "<class '__main__.Car'>\n"
     ]
    }
   ],
   "source": [
    "## A class is a blue print for creating objects,Attributes,methods \n",
    "\n",
    "class Car:\n",
    "    pass  # Empty class (no attributes or methods yet)\n",
    "\n",
    "\n",
    "# Creating objects\n",
    "\n",
    "audi=Car()   # Object 1\n",
    "bmw=Car()     # Object 2\n",
    "\n",
    "#Printing type of object\n",
    "print(type(audi))"
   ]
  },
  {
   "cell_type": "code",
   "execution_count": 2,
   "id": "ccbf1d14",
   "metadata": {},
   "outputs": [
    {
     "name": "stdout",
     "output_type": "stream",
     "text": [
      "<__main__.Car object at 0x00000214BA840EC0>\n"
     ]
    }
   ],
   "source": [
    "print(audi)"
   ]
  },
  {
   "cell_type": "code",
   "execution_count": 3,
   "id": "6c917223",
   "metadata": {},
   "outputs": [
    {
     "name": "stdout",
     "output_type": "stream",
     "text": [
      "<__main__.Car object at 0x00000214BA65F110>\n"
     ]
    }
   ],
   "source": [
    "print(bmw)"
   ]
  },
  {
   "cell_type": "code",
   "execution_count": 9,
   "id": "0214d50c",
   "metadata": {},
   "outputs": [
    {
     "name": "stdout",
     "output_type": "stream",
     "text": [
      "4\n",
      "4\n"
     ]
    }
   ],
   "source": [
    "audi.windows=4\n",
    "audi.wheels=4\n",
    "\n",
    "\n",
    "print(audi.windows)\n",
    "print(audi.wheels)\n",
    "\n"
   ]
  },
  {
   "cell_type": "code",
   "execution_count": 11,
   "id": "8531d406",
   "metadata": {},
   "outputs": [
    {
     "ename": "AttributeError",
     "evalue": "'Car' object has no attribute 'windows'",
     "output_type": "error",
     "traceback": [
      "\u001b[31m---------------------------------------------------------------------------\u001b[39m",
      "\u001b[31mAttributeError\u001b[39m                            Traceback (most recent call last)",
      "\u001b[36mCell\u001b[39m\u001b[36m \u001b[39m\u001b[32mIn[11]\u001b[39m\u001b[32m, line 3\u001b[39m\n\u001b[32m      1\u001b[39m tata=Car()\n\u001b[32m      2\u001b[39m tata.window=\u001b[32m4\u001b[39m\n\u001b[32m----> \u001b[39m\u001b[32m3\u001b[39m \u001b[38;5;28mprint\u001b[39m(\u001b[43mtata\u001b[49m\u001b[43m.\u001b[49m\u001b[43mwindows\u001b[49m)\n",
      "\u001b[31mAttributeError\u001b[39m: 'Car' object has no attribute 'windows'"
     ]
    }
   ],
   "source": [
    "tata=Car()\n",
    "tata.window=4\n",
    "print(tata.windows)"
   ]
  },
  {
   "cell_type": "code",
   "execution_count": null,
   "id": "160643c5",
   "metadata": {},
   "outputs": [
    {
     "data": {
      "text/plain": [
       "['__class__',\n",
       " '__delattr__',\n",
       " '__dict__',\n",
       " '__dir__',\n",
       " '__doc__',\n",
       " '__eq__',\n",
       " '__firstlineno__',\n",
       " '__format__',\n",
       " '__ge__',\n",
       " '__getattribute__',\n",
       " '__getstate__',\n",
       " '__gt__',\n",
       " '__hash__',\n",
       " '__init__',\n",
       " '__init_subclass__',\n",
       " '__le__',\n",
       " '__lt__',\n",
       " '__module__',\n",
       " '__ne__',\n",
       " '__new__',\n",
       " '__reduce__',\n",
       " '__reduce_ex__',\n",
       " '__repr__',\n",
       " '__setattr__',\n",
       " '__sizeof__',\n",
       " '__static_attributes__',\n",
       " '__str__',\n",
       " '__subclasshook__',\n",
       " '__weakref__',\n",
       " 'window']"
      ]
     },
     "execution_count": 12,
     "metadata": {},
     "output_type": "execute_result"
    }
   ],
   "source": [
    "dir(tata)  ## these outputs are inbuilt methods "
   ]
  },
  {
   "cell_type": "code",
   "execution_count": 8,
   "id": "580c8fa9",
   "metadata": {},
   "outputs": [
    {
     "name": "stdout",
     "output_type": "stream",
     "text": [
      "audi has 4 windows and 4 wheels.\n"
     ]
    }
   ],
   "source": [
    "windows = 4\n",
    "wheels = 4\n",
    "print(f\"audi has {windows} windows and {wheels} wheels.\")\n"
   ]
  },
  {
   "cell_type": "code",
   "execution_count": 1,
   "id": "4a1c2a9f",
   "metadata": {},
   "outputs": [
    {
     "name": "stdout",
     "output_type": "stream",
     "text": [
      "audi has 2 mirror and 2 wipper\n"
     ]
    }
   ],
   "source": [
    "mirror=2\n",
    "wipper =2\n",
    "print(f\"audi has {mirror} mirror and {wipper} wipper\")"
   ]
  },
  {
   "cell_type": "markdown",
   "id": "ddebc16c",
   "metadata": {},
   "source": [
    "### __init__\n",
    "\n",
    "It’s a constructor method in Python classes.\n",
    "\n",
    "Runs automatically whenever you create (instantiate) an object from a class.\n",
    "\n",
    "Its job is to set up the object with initial values (attributes).\n",
    "\n"
   ]
  },
  {
   "cell_type": "code",
   "execution_count": 18,
   "id": "04ae95dc",
   "metadata": {},
   "outputs": [
    {
     "name": "stdout",
     "output_type": "stream",
     "text": [
      "<__main__.Dog object at 0x00000288083C1BE0>\n",
      "Ravi\n",
      "3\n"
     ]
    }
   ],
   "source": [
    "### Instance Variable and Methods\n",
    "\n",
    "class Dog:\n",
    "    ## constructor\n",
    "\n",
    "    def __init__(self,name,age):\n",
    "        self.name=name\n",
    "        self.age=age\n",
    "\n",
    "        ## create objects\n",
    "dog1=Dog(\"Ravi\" ,3)\n",
    "print(dog1)\n",
    "print(dog1.name)\n",
    "print(dog1.age)\n"
   ]
  },
  {
   "cell_type": "code",
   "execution_count": 1,
   "id": "d0064cba",
   "metadata": {},
   "outputs": [
    {
     "name": "stdout",
     "output_type": "stream",
     "text": [
      "Buddy says woof\n",
      "luccy says woof\n"
     ]
    }
   ],
   "source": [
    "## Defination a class with instance methods \n",
    "\n",
    "class Dog:\n",
    "   def __init__(self,name,age):\n",
    "      self.name=name\n",
    "      self.age=age\n",
    "\n",
    "   def bark(self):\n",
    "      print(f\"{self.name} says woof\")\n",
    "\n",
    "dog1=Dog(\"Buddy\",3)\n",
    "dog1.bark()\n",
    "dog2=Dog(\"luccy\",4)\n",
    "dog2.bark()\n",
    "\n",
    "                 \n"
   ]
  },
  {
   "cell_type": "markdown",
   "id": "7fccbbc6",
   "metadata": {},
   "source": [
    "###  example: Modling a Bank Account"
   ]
  },
  {
   "cell_type": "code",
   "execution_count": null,
   "id": "985f3190",
   "metadata": {},
   "outputs": [
    {
     "name": "stdout",
     "output_type": "stream",
     "text": [
      "5000\n"
     ]
    }
   ],
   "source": [
    "class BankAccount:\n",
    "    def __init__(self, owner, balance=0):\n",
    "        self.owner = owner\n",
    "        self.balance = balance\n",
    "    \n",
    "    def deposit(self, amount):\n",
    "        self.balance += amount\n",
    "        print(f\"{amount} deposited. New balance is {self.balance}\")\n",
    "\n",
    "    def withdraw(self, amount):\n",
    "        if amount > self.balance:\n",
    "            print(\"Insufficient funds!\")\n",
    "        else:\n",
    "            self.balance -= amount\n",
    "            print(f\"{amount} withdrawn. New balance is {self.balance}\")\n",
    "        \n",
    "    def get_balance(self):\n",
    "        return self.balance\n",
    "\n",
    "\n",
    "# Create an account (outside class)\n",
    "account = BankAccount(\"chiru\", 5000)\n",
    "print(account.balance) "
   ]
  },
  {
   "cell_type": "code",
   "execution_count": 6,
   "id": "0563ca8d",
   "metadata": {},
   "outputs": [
    {
     "name": "stdout",
     "output_type": "stream",
     "text": [
      "200 deposited. New balance is 5200\n"
     ]
    }
   ],
   "source": [
    "## call instance methods \n",
    "\n",
    "account.deposit(200)"
   ]
  },
  {
   "cell_type": "code",
   "execution_count": 7,
   "id": "fb8b13d2",
   "metadata": {},
   "outputs": [
    {
     "name": "stdout",
     "output_type": "stream",
     "text": [
      "1000 withdrawn. New balance is 4200\n"
     ]
    }
   ],
   "source": [
    "account.withdraw(1000)"
   ]
  },
  {
   "cell_type": "code",
   "execution_count": 8,
   "id": "c078cbae",
   "metadata": {},
   "outputs": [
    {
     "name": "stdout",
     "output_type": "stream",
     "text": [
      "4200\n"
     ]
    }
   ],
   "source": [
    "print(account.get_balance())"
   ]
  },
  {
   "cell_type": "code",
   "execution_count": 2,
   "id": "3bae6375",
   "metadata": {},
   "outputs": [
    {
     "ename": "NameError",
     "evalue": "name 'account' is not defined",
     "output_type": "error",
     "traceback": [
      "\u001b[31m---------------------------------------------------------------------------\u001b[39m",
      "\u001b[31mNameError\u001b[39m                                 Traceback (most recent call last)",
      "\u001b[36mCell\u001b[39m\u001b[36m \u001b[39m\u001b[32mIn[2]\u001b[39m\u001b[32m, line 1\u001b[39m\n\u001b[32m----> \u001b[39m\u001b[32m1\u001b[39m \u001b[38;5;28mprint\u001b[39m(\u001b[43maccount\u001b[49m.get_balance())\n",
      "\u001b[31mNameError\u001b[39m: name 'account' is not defined"
     ]
    }
   ],
   "source": [
    "print(account.get_balance())"
   ]
  },
  {
   "cell_type": "code",
   "execution_count": null,
   "id": "e977374d",
   "metadata": {},
   "outputs": [],
   "source": []
  }
 ],
 "metadata": {
  "kernelspec": {
   "display_name": "Python 3",
   "language": "python",
   "name": "python3"
  },
  "language_info": {
   "codemirror_mode": {
    "name": "ipython",
    "version": 3
   },
   "file_extension": ".py",
   "mimetype": "text/x-python",
   "name": "python",
   "nbconvert_exporter": "python",
   "pygments_lexer": "ipython3",
   "version": "3.13.0"
  }
 },
 "nbformat": 4,
 "nbformat_minor": 5
}
