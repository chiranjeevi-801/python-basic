{
 "cells": [
  {
   "cell_type": "markdown",
   "id": "61d2f79d",
   "metadata": {},
   "source": [
    "### variables :--"
   ]
  },
  {
   "cell_type": "code",
   "execution_count": 1,
   "id": "bc01e991",
   "metadata": {},
   "outputs": [
    {
     "name": "stdout",
     "output_type": "stream",
     "text": [
      "Age: 25\n",
      "Price: 19.99\n",
      "Name: Alice\n",
      "Is student: True\n",
      "Fruits: ['apple', 'banana', 'cherry']\n",
      "Coordinates: (10, 20)\n",
      "Person: {'name': 'Bob', 'age': 30}\n"
     ]
    }
   ],
   "source": [
    "# Integer variable (stores a number)\n",
    "age = 25\n",
    "print(\"Age:\", age)\n",
    "\n",
    "# Float variable (decimal number)\n",
    "price = 19.99\n",
    "print(\"Price:\", price)\n",
    "\n",
    "# String variable (text)\n",
    "name = \"Alice\"\n",
    "print(\"Name:\", name)\n",
    "\n",
    "# Boolean variable (True or False)\n",
    "is_student = True\n",
    "print(\"Is student:\", is_student)\n",
    "\n",
    "# List variable (collection of items)\n",
    "fruits = [\"apple\", \"banana\", \"cherry\"]\n",
    "print(\"Fruits:\", fruits)\n",
    "\n",
    "# Tuple variable (like list, but cannot be changed)\n",
    "coordinates = (10, 20)\n",
    "print(\"Coordinates:\", coordinates)\n",
    "\n",
    "# Dictionary variable (key-value pairs)\n",
    "person = {\"name\": \"Bob\", \"age\": 30}\n",
    "print(\"Person:\", person)\n"
   ]
  },
  {
   "cell_type": "code",
   "execution_count": 2,
   "id": "7628c029",
   "metadata": {},
   "outputs": [
    {
     "name": "stdout",
     "output_type": "stream",
     "text": [
      "Count: 100\n",
      "Temperature: 36.6\n",
      "City: New York\n",
      "Is it raining? False\n",
      "Colors: ['red', 'green', 'blue']\n",
      "Days: ('Monday', 'Tuesday', 'Wednesday')\n",
      "Student Details: {'name': 'John', 'grade': 'A', 'age': 20}\n",
      "Unique Numbers: {1, 2, 3}\n",
      "Result: None\n",
      "x before: 10\n",
      "x after: 20\n",
      "Area: 15\n"
     ]
    }
   ],
   "source": [
    "# 1️⃣ Integer (whole number)\n",
    "count = 100\n",
    "print(\"Count:\", count)\n",
    "\n",
    "# 2️⃣ Float (decimal number)\n",
    "temperature = 36.6\n",
    "print(\"Temperature:\", temperature)\n",
    "\n",
    "# 3️⃣ String (text)\n",
    "city = \"New York\"\n",
    "print(\"City:\", city)\n",
    "\n",
    "# 4️⃣ Boolean (True / False)\n",
    "is_raining = False\n",
    "print(\"Is it raining?\", is_raining)\n",
    "\n",
    "# 5️⃣ List (can hold multiple values)\n",
    "colors = [\"red\", \"green\", \"blue\"]\n",
    "print(\"Colors:\", colors)\n",
    "\n",
    "# 6️⃣ Tuple (immutable list)\n",
    "days = (\"Monday\", \"Tuesday\", \"Wednesday\")\n",
    "print(\"Days:\", days)\n",
    "\n",
    "# 7️⃣ Dictionary (key-value pairs)\n",
    "student = {\"name\": \"John\", \"grade\": \"A\", \"age\": 20}\n",
    "print(\"Student Details:\", student)\n",
    "\n",
    "# 8️⃣ Set (unique values, unordered)\n",
    "unique_numbers = {1, 2, 3, 3, 2, 1}\n",
    "print(\"Unique Numbers:\", unique_numbers)\n",
    "\n",
    "# 9️⃣ None (represents no value / empty)\n",
    "result = None\n",
    "print(\"Result:\", result)\n",
    "\n",
    "# 🔟 Variable Reassignment (change value)\n",
    "x = 10\n",
    "print(\"x before:\", x)\n",
    "x = 20\n",
    "print(\"x after:\", x)\n",
    "\n",
    "# 1️⃣1️⃣ Using Variables in Calculations\n",
    "length = 5\n",
    "width = 3\n",
    "area = length * width\n",
    "print(\"Area:\", area)\n"
   ]
  },
  {
   "cell_type": "code",
   "execution_count": null,
   "id": "6c0dd652",
   "metadata": {},
   "outputs": [],
   "source": []
  }
 ],
 "metadata": {
  "kernelspec": {
   "display_name": "Python 3",
   "language": "python",
   "name": "python3"
  },
  "language_info": {
   "codemirror_mode": {
    "name": "ipython",
    "version": 3
   },
   "file_extension": ".py",
   "mimetype": "text/x-python",
   "name": "python",
   "nbconvert_exporter": "python",
   "pygments_lexer": "ipython3",
   "version": "3.13.0"
  }
 },
 "nbformat": 4,
 "nbformat_minor": 5
}
