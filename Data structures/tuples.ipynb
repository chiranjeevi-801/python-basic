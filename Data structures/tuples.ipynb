{
 "cells": [
  {
   "cell_type": "markdown",
   "id": "18dafcdf",
   "metadata": {},
   "source": [
    "### Tuples "
   ]
  },
  {
   "cell_type": "markdown",
   "id": "5df8137a",
   "metadata": {},
   "source": [
    "Tupeles is a order collection of items that are immutable. they are similar to list,but their immutability  "
   ]
  },
  {
   "cell_type": "code",
   "execution_count": 1,
   "id": "1bec2485",
   "metadata": {},
   "outputs": [
    {
     "name": "stdout",
     "output_type": "stream",
     "text": [
      "()\n",
      "<class 'tuple'>\n"
     ]
    }
   ],
   "source": [
    "## creating tuples \n",
    "\n",
    "\n",
    "empty_tuples=()\n",
    "print(empty_tuples)\n",
    "print(type(empty_tuples))"
   ]
  },
  {
   "cell_type": "code",
   "execution_count": 2,
   "id": "44b9598b",
   "metadata": {},
   "outputs": [
    {
     "name": "stdout",
     "output_type": "stream",
     "text": [
      "<class 'list'>\n",
      "<class 'tuple'>\n"
     ]
    }
   ],
   "source": [
    "lst=list()\n",
    "print(type(lst))\n",
    "tpl=tuple()\n",
    "print(type(tpl))"
   ]
  },
  {
   "cell_type": "code",
   "execution_count": 4,
   "id": "e8035ae1",
   "metadata": {},
   "outputs": [
    {
     "data": {
      "text/plain": [
       "(1, 2, 3, 4, 5, 6)"
      ]
     },
     "execution_count": 4,
     "metadata": {},
     "output_type": "execute_result"
    }
   ],
   "source": [
    "numbers=tuple([1,2,3,4,5,6])\n",
    "numbers"
   ]
  },
  {
   "cell_type": "code",
   "execution_count": 5,
   "id": "5a861a28",
   "metadata": {},
   "outputs": [
    {
     "data": {
      "text/plain": [
       "[1, 2, 3, 4, 5, 6]"
      ]
     },
     "execution_count": 5,
     "metadata": {},
     "output_type": "execute_result"
    }
   ],
   "source": [
    "list([1,2,3,4,5,6])"
   ]
  },
  {
   "cell_type": "code",
   "execution_count": 6,
   "id": "45620764",
   "metadata": {},
   "outputs": [
    {
     "data": {
      "text/plain": [
       "(1, 2, 3, 4, 5, 6)"
      ]
     },
     "execution_count": 6,
     "metadata": {},
     "output_type": "execute_result"
    }
   ],
   "source": [
    "numbers"
   ]
  },
  {
   "cell_type": "code",
   "execution_count": 8,
   "id": "c5d50a09",
   "metadata": {},
   "outputs": [
    {
     "name": "stdout",
     "output_type": "stream",
     "text": [
      "(1, 'helllo', 3.3, True)\n"
     ]
    }
   ],
   "source": [
    "mixed_tuples=(1,\"helllo\",3.3,True)\n",
    "print(mixed_tuples)"
   ]
  },
  {
   "cell_type": "code",
   "execution_count": 8,
   "id": "8657f3a0",
   "metadata": {},
   "outputs": [],
   "source": [
    "## Accesssing Tuples Elements \n",
    "numbers=([1,2,3,4,5,6])"
   ]
  },
  {
   "cell_type": "code",
   "execution_count": 17,
   "id": "1033497f",
   "metadata": {},
   "outputs": [
    {
     "name": "stdout",
     "output_type": "stream",
     "text": [
      "(1, 'hello', 3.3, True)\n"
     ]
    }
   ],
   "source": [
    "mixed_tuples=(1,\"hello\",3.3,True)\n",
    "print(mixed_tuples)"
   ]
  },
  {
   "cell_type": "code",
   "execution_count": 13,
   "id": "ca5453fe",
   "metadata": {},
   "outputs": [
    {
     "name": "stdout",
     "output_type": "stream",
     "text": [
      "3\n",
      "6\n",
      "[1, 2, 3, 4, 5, 6]\n",
      "[2, 3, 4, 5, 6]\n",
      "[6, 5, 4, 3, 2, 1]\n"
     ]
    },
    {
     "data": {
      "text/plain": [
       "[6, 5, 4, 3, 2, 1]"
      ]
     },
     "execution_count": 13,
     "metadata": {},
     "output_type": "execute_result"
    }
   ],
   "source": [
    "## Checking indexing \n",
    "\n",
    "print(numbers[2])\n",
    "print(numbers[-1])\n",
    "print(numbers[::])\n",
    "print(numbers[1:])\n",
    "print(numbers[::-1])\n",
    "\n",
    "numbers[0:4]\n",
    "numbers[::-1]"
   ]
  },
  {
   "cell_type": "code",
   "execution_count": 18,
   "id": "0d21da66",
   "metadata": {},
   "outputs": [
    {
     "ename": "TypeError",
     "evalue": "can only concatenate list (not \"tuple\") to list",
     "output_type": "error",
     "traceback": [
      "\u001b[31m---------------------------------------------------------------------------\u001b[39m",
      "\u001b[31mTypeError\u001b[39m                                 Traceback (most recent call last)",
      "\u001b[36mCell\u001b[39m\u001b[36m \u001b[39m\u001b[32mIn[18]\u001b[39m\u001b[32m, line 3\u001b[39m\n\u001b[32m      1\u001b[39m \u001b[38;5;66;03m##  Tuple Operation \u001b[39;00m\n\u001b[32m----> \u001b[39m\u001b[32m3\u001b[39m concatenation_tuples=\u001b[43mnumbers\u001b[49m\u001b[43m \u001b[49m\u001b[43m+\u001b[49m\u001b[43m \u001b[49m\u001b[43mmixed_tuples\u001b[49m\n\u001b[32m      4\u001b[39m \u001b[38;5;28mprint\u001b[39m(concatenation_tuples)\n",
      "\u001b[31mTypeError\u001b[39m: can only concatenate list (not \"tuple\") to list"
     ]
    }
   ],
   "source": [
    "##  Tuple Operation \n",
    "\n",
    "concatenation_tuples=numbers + mixed_tuples\n",
    "print(concatenation_tuples)"
   ]
  },
  {
   "cell_type": "code",
   "execution_count": 21,
   "id": "e898c149",
   "metadata": {},
   "outputs": [
    {
     "data": {
      "text/plain": [
       "(1, 'helllo', 3.3, True, 1, 'helllo', 3.3, True, 1, 'helllo', 3.3, True)"
      ]
     },
     "execution_count": 21,
     "metadata": {},
     "output_type": "execute_result"
    }
   ],
   "source": [
    "mixed_tuples*3"
   ]
  },
  {
   "cell_type": "code",
   "execution_count": 22,
   "id": "54d99d31",
   "metadata": {},
   "outputs": [
    {
     "data": {
      "text/plain": [
       "(1,\n",
       " 2,\n",
       " 3,\n",
       " 4,\n",
       " 5,\n",
       " 6,\n",
       " 1,\n",
       " 'helllo',\n",
       " 3.3,\n",
       " True,\n",
       " 1,\n",
       " 2,\n",
       " 3,\n",
       " 4,\n",
       " 5,\n",
       " 6,\n",
       " 1,\n",
       " 'helllo',\n",
       " 3.3,\n",
       " True)"
      ]
     },
     "execution_count": 22,
     "metadata": {},
     "output_type": "execute_result"
    }
   ],
   "source": [
    "concatenation_tuples*2"
   ]
  },
  {
   "cell_type": "code",
   "execution_count": 25,
   "id": "a4417a7c",
   "metadata": {},
   "outputs": [
    {
     "name": "stdout",
     "output_type": "stream",
     "text": [
      "[1, 2, 3, 4, 5]\n",
      "[1, 'chiru', 3, 4, 5]\n",
      "[1, 'chiru', 3, 4, 'acharya']\n"
     ]
    }
   ],
   "source": [
    "## Immutable Nature of Tuples\n",
    "## tuples are immutable ,meaning their elements cannot be changed once assigned \n",
    "\n",
    "lst=[1,2,3,4,5]\n",
    "print(lst)\n",
    "\n",
    "lst[1]=\"chiru\"\n",
    "print(lst)\n",
    "\n",
    "\n",
    "lst[4]=\"acharya\"\n",
    "print(lst)"
   ]
  },
  {
   "cell_type": "code",
   "execution_count": 26,
   "id": "45ed49fd",
   "metadata": {},
   "outputs": [
    {
     "data": {
      "text/plain": [
       "(1, 2, 3, 4, 5, 6)"
      ]
     },
     "execution_count": 26,
     "metadata": {},
     "output_type": "execute_result"
    }
   ],
   "source": [
    "numbers"
   ]
  },
  {
   "cell_type": "code",
   "execution_count": 29,
   "id": "ff476854",
   "metadata": {},
   "outputs": [
    {
     "name": "stdout",
     "output_type": "stream",
     "text": [
      "3\n",
      "1\n",
      "0\n",
      "2\n"
     ]
    }
   ],
   "source": [
    "## Tuples Methods\n",
    "\n",
    "print(numbers.index(4))\n",
    "print(numbers.index(2))\n",
    "\n",
    "print(numbers.index(1))\n",
    "print(numbers.index(3))"
   ]
  },
  {
   "cell_type": "code",
   "execution_count": 41,
   "id": "a9151fd1",
   "metadata": {},
   "outputs": [
    {
     "name": "stdout",
     "output_type": "stream",
     "text": [
      "(1, 'hello', 3.33)\n"
     ]
    }
   ],
   "source": [
    "## packing and Unpacking tuple\n",
    "\n",
    "\n",
    "# Packing a tuple\n",
    "packed_tuple = (1, \"hello\", 3.33)\n",
    "print(packed_tuple)\n",
    "\n",
    "\n"
   ]
  },
  {
   "cell_type": "code",
   "execution_count": 19,
   "id": "c5284eb4",
   "metadata": {},
   "outputs": [
    {
     "ename": "NameError",
     "evalue": "name 'packed_tuple' is not defined",
     "output_type": "error",
     "traceback": [
      "\u001b[31m---------------------------------------------------------------------------\u001b[39m",
      "\u001b[31mNameError\u001b[39m                                 Traceback (most recent call last)",
      "\u001b[36mCell\u001b[39m\u001b[36m \u001b[39m\u001b[32mIn[19]\u001b[39m\u001b[32m, line 3\u001b[39m\n\u001b[32m      1\u001b[39m \u001b[38;5;66;03m## unpacking a tuple \u001b[39;00m\n\u001b[32m----> \u001b[39m\u001b[32m3\u001b[39m a,b,c=\u001b[43mpacked_tuple\u001b[49m\n\u001b[32m      4\u001b[39m \u001b[38;5;28mprint\u001b[39m(a)\n\u001b[32m      5\u001b[39m \u001b[38;5;28mprint\u001b[39m(b)\n",
      "\u001b[31mNameError\u001b[39m: name 'packed_tuple' is not defined"
     ]
    }
   ],
   "source": [
    "## unpacking a tuple \n",
    "\n",
    "a,b,c=packed_tuple\n",
    "print(a)\n",
    "print(b)\n",
    "print(c)"
   ]
  },
  {
   "cell_type": "code",
   "execution_count": 46,
   "id": "a64f9d46",
   "metadata": {},
   "outputs": [
    {
     "name": "stdout",
     "output_type": "stream",
     "text": [
      "1\n",
      "[2, 3, 4, 5]\n",
      "6\n"
     ]
    }
   ],
   "source": [
    "## unpacking with *\n",
    "\n",
    "numbers=(1,2,3,4,5,6)\n",
    "first,*middle,last=numbers\n",
    "print(first)\n",
    "print(middle)\n",
    "print(last)"
   ]
  },
  {
   "cell_type": "code",
   "execution_count": null,
   "id": "34eda955",
   "metadata": {},
   "outputs": [
    {
     "data": {
      "text/plain": [
       "[1, 2, 3, 4]"
      ]
     },
     "execution_count": 52,
     "metadata": {},
     "output_type": "execute_result"
    }
   ],
   "source": [
    "## Nested Tuple  (Nested?--- it is a list with in a list is called nestesd )\n",
    "## Nested List \n",
    "\n",
    "lst=[[1,2,3,4],[5,6,7,8,9],[1,\"kello\",3.12,\"c\"]]\n",
    "lst[0][0:4]\n"
   ]
  },
  {
   "cell_type": "code",
   "execution_count": 67,
   "id": "e9e199ab",
   "metadata": {},
   "outputs": [
    {
     "data": {
      "text/plain": [
       "(1, 'kello', 3.12)"
      ]
     },
     "execution_count": 67,
     "metadata": {},
     "output_type": "execute_result"
    }
   ],
   "source": [
    "\n",
    "lst=[[1,2,3,4],[5,6,7,8,9],(1,\"kello\",3.12,\"c\")]\n",
    "\n",
    "lst[2][0:3]\n"
   ]
  },
  {
   "cell_type": "code",
   "execution_count": 65,
   "id": "a50c2cac",
   "metadata": {},
   "outputs": [
    {
     "name": "stdout",
     "output_type": "stream",
     "text": [
      "(1, 2, 3, 4)\n",
      "b\n",
      "False\n"
     ]
    }
   ],
   "source": [
    "nested_tuple=((1,2,3,4),(\"a\",\"b\",\"c\"),(True,False))\n",
    "\n",
    "## access the element inside  tuple \n",
    "\n",
    "print(nested_tuple[0])\n",
    "print(nested_tuple[1][1])\n",
    "print(nested_tuple[2][1])"
   ]
  },
  {
   "cell_type": "code",
   "execution_count": 63,
   "id": "8f4db33b",
   "metadata": {},
   "outputs": [
    {
     "name": "stdout",
     "output_type": "stream",
     "text": [
      "1 2 3 4 \n",
      "a b c \n",
      "True False \n"
     ]
    }
   ],
   "source": [
    "##  iterating over nested tuples\n",
    "\n",
    "for sub_tuple in nested_tuple:\n",
    "    for item in sub_tuple:\n",
    "        print(item,end=\" \")\n",
    "    print()    "
   ]
  },
  {
   "cell_type": "code",
   "execution_count": null,
   "id": "431dd584",
   "metadata": {},
   "outputs": [],
   "source": []
  }
 ],
 "metadata": {
  "kernelspec": {
   "display_name": "Python 3",
   "language": "python",
   "name": "python3"
  },
  "language_info": {
   "codemirror_mode": {
    "name": "ipython",
    "version": 3
   },
   "file_extension": ".py",
   "mimetype": "text/x-python",
   "name": "python",
   "nbconvert_exporter": "python",
   "pygments_lexer": "ipython3",
   "version": "3.13.0"
  }
 },
 "nbformat": 4,
 "nbformat_minor": 5
}
