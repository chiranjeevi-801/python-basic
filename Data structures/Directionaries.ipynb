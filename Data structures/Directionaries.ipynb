{
 "cells": [
  {
   "cell_type": "markdown",
   "id": "20c781d8",
   "metadata": {},
   "source": [
    "#### Dictionaries\n",
    " dictionary is a built-in data type that stores data in key–value pairs."
   ]
  },
  {
   "cell_type": "markdown",
   "id": "39741980",
   "metadata": {},
   "source": [
    "## 1) Creating Dictionaries "
   ]
  },
  {
   "cell_type": "code",
   "execution_count": null,
   "id": "68bc596b",
   "metadata": {},
   "outputs": [
    {
     "name": "stdout",
     "output_type": "stream",
     "text": [
      "<class 'dict'>\n"
     ]
    }
   ],
   "source": [
    "\n",
    "\n",
    "## there are two way to  create the Dictionaries\n",
    "\n",
    "empty_dict={}\n",
    "print(type(empty_dict))\n",
    "\n",
    "\n",
    "    ## OR \n"
   ]
  },
  {
   "cell_type": "code",
   "execution_count": null,
   "id": "ef25bfaa",
   "metadata": {},
   "outputs": [
    {
     "data": {
      "text/plain": [
       "{}"
      ]
     },
     "execution_count": 4,
     "metadata": {},
     "output_type": "execute_result"
    }
   ],
   "source": [
    "     ##OR\n",
    "\n",
    "\n",
    "empty_dict=dict()\n",
    "empty_dict"
   ]
  },
  {
   "cell_type": "code",
   "execution_count": 6,
   "id": "a905277a",
   "metadata": {},
   "outputs": [
    {
     "name": "stdout",
     "output_type": "stream",
     "text": [
      "{'name': 'chiru', 'age': 21, 'grade': 24}\n",
      "<class 'dict'>\n"
     ]
    }
   ],
   "source": [
    "student={\"name\":\"chiru\",\"age\":21,\"grade\":24}\n",
    "print(student)\n",
    "print(type(student))"
   ]
  },
  {
   "cell_type": "code",
   "execution_count": 7,
   "id": "491f1b4e",
   "metadata": {},
   "outputs": [
    {
     "name": "stdout",
     "output_type": "stream",
     "text": [
      "{'name': 24, 'age': 21}\n"
     ]
    }
   ],
   "source": [
    "## single key is  always used\n",
    "student={\"name\":\"chiu\",\"age\":21,\"name\":24}\n",
    "print(student)\n"
   ]
  },
  {
   "cell_type": "markdown",
   "id": "6e1758f7",
   "metadata": {},
   "source": [
    "###  2) Accecing Dictionary Elements"
   ]
  },
  {
   "cell_type": "code",
   "execution_count": 8,
   "id": "f1f73e43",
   "metadata": {},
   "outputs": [
    {
     "name": "stdout",
     "output_type": "stream",
     "text": [
      "{'name': 'chiru', 'age': 21, 'grade': 24}\n"
     ]
    }
   ],
   "source": [
    "## accecing Dictionary Elements\n",
    "\n",
    "student={\"name\":\"chiru\",\"age\":21,\"grade\":24}\n",
    "print(student)\n"
   ]
  },
  {
   "cell_type": "code",
   "execution_count": null,
   "id": "c3d3f6c7",
   "metadata": {},
   "outputs": [
    {
     "name": "stdout",
     "output_type": "stream",
     "text": [
      "24\n",
      "21\n",
      "chiru\n",
      "24\n",
      "None\n",
      "Not Available\n"
     ]
    }
   ],
   "source": [
    "## accecing Dictionary Elements\n",
    "\n",
    "print(student['grade'])\n",
    "print(student['age'])\n",
    "print(student['name'])\n",
    "\n",
    "\n",
    "\n",
    "       ##Or\n",
    "\n",
    "## Accecing using  get() method \n",
    "\n",
    "print(student.get('grade'))\n",
    "print(student.get('last_name'))\n",
    "print(student.get('last_name',\"Not Available\"))"
   ]
  },
  {
   "cell_type": "markdown",
   "id": "b888cb13",
   "metadata": {},
   "source": [
    "### 3)  Modifying Dictionry Elements"
   ]
  },
  {
   "cell_type": "code",
   "execution_count": 14,
   "id": "6ac8bfed",
   "metadata": {},
   "outputs": [
    {
     "name": "stdout",
     "output_type": "stream",
     "text": [
      "{'name': 'chiru', 'age': 21, 'grade': 24}\n"
     ]
    }
   ],
   "source": [
    "##  Modifying Dictionry Elements\n",
    "\n",
    "## Dictionary are mutable,so you can add, update or delete elements\n",
    "\n",
    "print(student)"
   ]
  },
  {
   "cell_type": "code",
   "execution_count": null,
   "id": "900aaa65",
   "metadata": {},
   "outputs": [
    {
     "name": "stdout",
     "output_type": "stream",
     "text": [
      "{'name': 'chiru', 'age': 33, 'grade': 24, 'address': 'India'}\n",
      "{'name': 'chiru', 'age': 33, 'grade': 24, 'address': 'India'}\n"
     ]
    }
   ],
   "source": [
    "student[\"age\"]=33  ## Update value for the key \n",
    "print(student)\n",
    "\n",
    "student[\"address\"]=\"India\"  ## added new key and value\n",
    "print(student)\n",
    "\n"
   ]
  },
  {
   "cell_type": "code",
   "execution_count": null,
   "id": "37970e7c",
   "metadata": {},
   "outputs": [
    {
     "name": "stdout",
     "output_type": "stream",
     "text": [
      "{'name': 'chiru', 'age': 33, 'address': 'India'}\n"
     ]
    }
   ],
   "source": [
    "\n",
    "del student['grade']  ## delete key and value pair\n",
    "print(student)"
   ]
  },
  {
   "cell_type": "markdown",
   "id": "ad03af1b",
   "metadata": {},
   "source": [
    "###  4)  DIctionary Methods"
   ]
  },
  {
   "cell_type": "code",
   "execution_count": 69,
   "id": "48a59dce",
   "metadata": {},
   "outputs": [
    {
     "name": "stdout",
     "output_type": "stream",
     "text": [
      "dict_keys(['student1', 'student2'])\n",
      "dict_values([{'name': 'chiru', 'age': 32}, {'name': 'josaff', 'age': 35}])\n",
      "dict_items([('student1', {'name': 'chiru', 'age': 32}), ('student2', {'name': 'josaff', 'age': 35})])\n"
     ]
    }
   ],
   "source": [
    "keys=student.keys()   ## get all the key \n",
    "print(keys)\n",
    "\n",
    "values=student.values() ## get all the values\n",
    "print(values)\n",
    "\n",
    "items=student.items()    ## get all keys and value pair\n",
    "print(items)"
   ]
  },
  {
   "cell_type": "code",
   "execution_count": 34,
   "id": "23e56686",
   "metadata": {},
   "outputs": [
    {
     "name": "stdout",
     "output_type": "stream",
     "text": [
      "{'name': 'chiru', 'age': 33, 'address': 'India'}\n",
      "{'name': 'chiru', 'age': 33, 'address': 'India'}\n"
     ]
    }
   ],
   "source": [
    "## Shallow copy --->( it is used in priject )\n",
    "\n",
    "student_copy=student\n",
    "print(student)\n",
    "print(student_copy)"
   ]
  },
  {
   "cell_type": "code",
   "execution_count": 38,
   "id": "ae225782",
   "metadata": {},
   "outputs": [
    {
     "name": "stdout",
     "output_type": "stream",
     "text": [
      "{'name': 'chiru1', 'age': 33, 'address': 'India'}\n",
      "{'name': 'chiru1', 'age': 33, 'address': 'India'}\n"
     ]
    }
   ],
   "source": [
    "student[\"name\"]=\"chiru1\"\n",
    "print(student)\n",
    "print(student_copy)"
   ]
  },
  {
   "cell_type": "code",
   "execution_count": 39,
   "id": "eb76b91a",
   "metadata": {},
   "outputs": [
    {
     "name": "stdout",
     "output_type": "stream",
     "text": [
      "{'name': 'chiru1', 'age': 33, 'address': 'India'}\n",
      "{'name': 'chiru1', 'age': 33, 'address': 'India'}\n"
     ]
    }
   ],
   "source": [
    "student_copy1=student.copy()\n",
    "print(student_copy)\n",
    "print(student)"
   ]
  },
  {
   "cell_type": "code",
   "execution_count": 41,
   "id": "d199b8b5",
   "metadata": {},
   "outputs": [
    {
     "name": "stdout",
     "output_type": "stream",
     "text": [
      "{'name': 'chiru1', 'age': 33, 'address': 'India'}\n",
      "{'name': 'chiru2', 'age': 33, 'address': 'India'}\n"
     ]
    }
   ],
   "source": [
    "student[\"name\"]=\"chiru2\"\n",
    "print(student_copy1)\n",
    "print(student)"
   ]
  },
  {
   "cell_type": "markdown",
   "id": "cfb19225",
   "metadata": {},
   "source": [
    "### 5) Iterating Over Dictionaies"
   ]
  },
  {
   "cell_type": "code",
   "execution_count": 44,
   "id": "43305573",
   "metadata": {},
   "outputs": [
    {
     "name": "stdout",
     "output_type": "stream",
     "text": [
      "name\n",
      "age\n",
      "address\n"
     ]
    }
   ],
   "source": [
    "## you can use loops to itterate over dictionaries,keys,values,or items\n",
    "\n",
    "#Iterating over keys\n",
    "\n",
    "for keys in student.keys():\n",
    "    print(keys)\n",
    " "
   ]
  },
  {
   "cell_type": "code",
   "execution_count": 46,
   "id": "1b9e7f8f",
   "metadata": {},
   "outputs": [
    {
     "name": "stdout",
     "output_type": "stream",
     "text": [
      "chiru2\n",
      "33\n",
      "India\n"
     ]
    }
   ],
   "source": [
    "#Iterating over values\n",
    "\n",
    "\n",
    "for values in student.values():\n",
    "    print(values)\n",
    " \n"
   ]
  },
  {
   "cell_type": "code",
   "execution_count": 48,
   "id": "5670f15b",
   "metadata": {},
   "outputs": [
    {
     "name": "stdout",
     "output_type": "stream",
     "text": [
      "name:chiru2\n",
      "age:33\n",
      "address:India\n"
     ]
    }
   ],
   "source": [
    "#Iterating over key value pairs\n",
    "\n",
    "for key,value in student.items():\n",
    "    print(f\"{key}:{value}\")"
   ]
  },
  {
   "cell_type": "markdown",
   "id": "9c07c9f6",
   "metadata": {},
   "source": [
    "###  6)Nested Dictionaries"
   ]
  },
  {
   "cell_type": "code",
   "execution_count": null,
   "id": "6cfbd758",
   "metadata": {},
   "outputs": [
    {
     "name": "stdout",
     "output_type": "stream",
     "text": [
      "{'student1': {'name': 'chiru', 'age': 32}, 'student2': {'name': 'josaff chiru', 'age': 35}}\n"
     ]
    }
   ],
   "source": [
    "## Examples 1:------------\n",
    "\n",
    "\n",
    "students={\n",
    "    \"student1\":{\"name\":\"chiru\",\"age\":32},\n",
    "     \"student2\":{\"name\":\"josaff chiru\",\"age\":35}    \n",
    "     \n",
    "}\n",
    "print(students)"
   ]
  },
  {
   "cell_type": "code",
   "execution_count": 57,
   "id": "262994de",
   "metadata": {},
   "outputs": [
    {
     "name": "stdout",
     "output_type": "stream",
     "text": [
      "{'student1': {'name': 'chiru', 'age': 32}, 'student2': {'name': 'josaff chiru', 'age': 35}}\n"
     ]
    }
   ],
   "source": [
    "students={\n",
    "    \"student1\":{\n",
    "        \"name\":\"chiru\",\n",
    "        \"age\":32\n",
    "    },\n",
    "     \"student2\":{\n",
    "         \"name\":\"josaff chiru\",\n",
    "         \"age\":35\n",
    "         \n",
    "    }    \n",
    "}\n",
    "   \n",
    "\n",
    "print(students)"
   ]
  },
  {
   "cell_type": "code",
   "execution_count": null,
   "id": "51d25997",
   "metadata": {},
   "outputs": [
    {
     "name": "stdout",
     "output_type": "stream",
     "text": [
      "josaff chiru\n",
      "35\n"
     ]
    }
   ],
   "source": [
    "\n",
    "## Access nested dictionaries \n",
    "\n",
    "print(students[\"student2\"][\"name\"])\n",
    "print(students[\"student2\"][\"age\"])"
   ]
  },
  {
   "cell_type": "code",
   "execution_count": null,
   "id": "b1645fb2",
   "metadata": {},
   "outputs": [
    {
     "name": "stdout",
     "output_type": "stream",
     "text": [
      "Chiru\n",
      "B\n",
      "28\n"
     ]
    }
   ],
   "source": [
    "## Examples 2:------------\n",
    "\n",
    "\n",
    "students = {\n",
    "    \"student1\": {\"name\": \"Chiru\", \"age\": 32, \"grade\": \"A\"},\n",
    "    \"student2\": {\"name\": \"Josaff\", \"age\": 35, \"grade\": \"B\"},\n",
    "    \"student3\": {\"name\": \"Anu\", \"age\": 28, \"grade\": \"A\"}\n",
    "}\n",
    "\n",
    "print(students[\"student1\"][\"name\"])   # Chiru\n",
    "print(students[\"student2\"][\"grade\"])  # B\n",
    "print(students[\"student3\"][\"age\"])  \n"
   ]
  },
  {
   "cell_type": "code",
   "execution_count": 60,
   "id": "f543e9ba",
   "metadata": {},
   "outputs": [
    {
     "data": {
      "text/plain": [
       "dict_items([('student1', {'name': 'Chiru', 'age': 32, 'grade': 'A'}), ('student2', {'name': 'Josaff', 'age': 35, 'grade': 'B'}), ('student3', {'name': 'Anu', 'age': 28, 'grade': 'A'})])"
      ]
     },
     "execution_count": 60,
     "metadata": {},
     "output_type": "execute_result"
    }
   ],
   "source": [
    "students.items()"
   ]
  },
  {
   "cell_type": "code",
   "execution_count": null,
   "id": "2cee4ff3",
   "metadata": {},
   "outputs": [
    {
     "name": "stdout",
     "output_type": "stream",
     "text": [
      "student1:{'name': 'Chiru', 'age': 32, 'grade': 'A'}\n",
      "name:India\n",
      "age:India\n",
      "grade:India\n",
      "student2:{'name': 'Josaff', 'age': 35, 'grade': 'B'}\n",
      "name:India\n",
      "age:India\n",
      "grade:India\n",
      "student3:{'name': 'Anu', 'age': 28, 'grade': 'A'}\n",
      "name:India\n",
      "age:India\n",
      "grade:India\n"
     ]
    }
   ],
   "source": [
    "## Iterating over nested dictionaries\n",
    "\n",
    "for student_id,student_info in students.items():\n",
    "    print(f\"{student_id}:{student_info}\")\n",
    "    for key,values in student_info.items():\n",
    "        print(f\"{key}:{value}\")                                    "
   ]
  },
  {
   "cell_type": "markdown",
   "id": "7556561f",
   "metadata": {},
   "source": [
    "###   Dictionary Comphrehension"
   ]
  },
  {
   "cell_type": "code",
   "execution_count": 62,
   "id": "72cf7c10",
   "metadata": {},
   "outputs": [
    {
     "name": "stdout",
     "output_type": "stream",
     "text": [
      "{0: 0, 1: 1, 2: 4, 3: 9, 4: 16}\n"
     ]
    }
   ],
   "source": [
    "##   Dictionary Comphrehension\n",
    "\n",
    "squares={x:x**2 for x in range(5)}\n",
    "print(squares)"
   ]
  },
  {
   "cell_type": "code",
   "execution_count": 66,
   "id": "8bf6a7d1",
   "metadata": {},
   "outputs": [
    {
     "name": "stdout",
     "output_type": "stream",
     "text": [
      "{0: 0, 2: 4, 4: 16, 6: 36, 8: 64}\n"
     ]
    }
   ],
   "source": [
    "## condition dictionary comparehension \n",
    "\n",
    "\n",
    "events={x:x**2 for x in range(10) if x%2==0}\n",
    "print(events)"
   ]
  },
  {
   "cell_type": "code",
   "execution_count": 67,
   "id": "12ae6d8b",
   "metadata": {},
   "outputs": [
    {
     "name": "stdout",
     "output_type": "stream",
     "text": [
      "{1: 2, 2: 3, 3: 3, 4: 5, 5: 3, 66: 1, 21: 1}\n"
     ]
    }
   ],
   "source": [
    "## Parctical Examples \n",
    "\n",
    "## use a dictionary to count he frequency of element in list \n",
    "\n",
    "numbers=[1,2,2,3,3,3,4,4,4,5,66,2,21,1,4,4,5,5,]\n",
    "frequency={}\n",
    "\n",
    "for number in numbers :\n",
    "    if number in frequency:\n",
    "        frequency[number]+=1\n",
    "    else:\n",
    "        frequency[number]=1\n",
    "print(frequency)"
   ]
  },
  {
   "cell_type": "code",
   "execution_count": 68,
   "id": "75620f1f",
   "metadata": {},
   "outputs": [
    {
     "name": "stdout",
     "output_type": "stream",
     "text": [
      "{'a': 1, 'b': 3, 'c': 4}\n"
     ]
    }
   ],
   "source": [
    "## Merge 2 dictionaries into one \n",
    "\n",
    "dict1={\"a\":1,\"b\":2}\n",
    "dict2={\"b\":3,\"c\":4}\n",
    "merged_dict={**dict1,**dict2}\n",
    "print(merged_dict)"
   ]
  },
  {
   "cell_type": "code",
   "execution_count": 5,
   "id": "ca1be07e",
   "metadata": {},
   "outputs": [
    {
     "name": "stdout",
     "output_type": "stream",
     "text": [
      "Positive feedback count: 2\n",
      "User feedback comments:\n",
      "- Great service.\n",
      "- Very satisfied.\n",
      "- Could be better.\n",
      "- Excellent experience.\n",
      "- Not happy with the service.\n"
     ]
    }
   ],
   "source": [
    "feedbacks = [\n",
    "    \"Great service.\",\n",
    "    \"Very satisfied.\",\n",
    "    \"Could be better.\",\n",
    "    \"Excellent experience.\",\n",
    "    \"Not happy with the service.\"\n",
    "]\n",
    "positive_feedback_count = 0\n",
    "for comment in feedbacks:\n",
    "    if \"great\" in comment.lower() or \"excellent\" in comment.lower():\n",
    "        positive_feedback_count += 1\n",
    "print(f\"Positive feedback count: {positive_feedback_count}\")\n",
    "print(\"User feedback comments:\")\n",
    "for comment in feedbacks:\n",
    "    print(f\"- {comment}\")"
   ]
  },
  {
   "cell_type": "code",
   "execution_count": null,
   "id": "c27151c4",
   "metadata": {},
   "outputs": [],
   "source": []
  }
 ],
 "metadata": {
  "kernelspec": {
   "display_name": "Python 3",
   "language": "python",
   "name": "python3"
  },
  "language_info": {
   "codemirror_mode": {
    "name": "ipython",
    "version": 3
   },
   "file_extension": ".py",
   "mimetype": "text/x-python",
   "name": "python",
   "nbconvert_exporter": "python",
   "pygments_lexer": "ipython3",
   "version": "3.13.0"
  }
 },
 "nbformat": 4,
 "nbformat_minor": 5
}
