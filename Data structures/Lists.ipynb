{
 "cells": [
  {
   "cell_type": "markdown",
   "id": "36f849c1",
   "metadata": {},
   "source": [
    "### Lists"
   ]
  },
  {
   "cell_type": "markdown",
   "id": "3e56e8b1",
   "metadata": {},
   "source": [
    " List is a built-in data type used to store multiple items in a single variable."
   ]
  },
  {
   "cell_type": "code",
   "execution_count": null,
   "id": "581ccff3",
   "metadata": {},
   "outputs": [
    {
     "name": "stdout",
     "output_type": "stream",
     "text": [
      "<class 'list'>\n"
     ]
    }
   ],
   "source": [
    "## Creating list \n",
    "lst=[]\n",
    "print(type(lst))"
   ]
  },
  {
   "cell_type": "code",
   "execution_count": 4,
   "id": "3e10e7d7",
   "metadata": {},
   "outputs": [
    {
     "name": "stdout",
     "output_type": "stream",
     "text": [
      "['chiru', 'ranga', 'avi', 'ashreen']\n"
     ]
    }
   ],
   "source": [
    "names=[\"chiru\",\"ranga\",\"avi\",\"ashreen\"]\n",
    "print(names)"
   ]
  },
  {
   "cell_type": "code",
   "execution_count": 5,
   "id": "405b32e4",
   "metadata": {},
   "outputs": [
    {
     "name": "stdout",
     "output_type": "stream",
     "text": [
      "['hello', 33, 33.33, True]\n"
     ]
    }
   ],
   "source": [
    "mixed_list=[\"hello\",33,33.33,True]\n",
    "print(mixed_list)"
   ]
  },
  {
   "cell_type": "code",
   "execution_count": null,
   "id": "ad331bea",
   "metadata": {},
   "outputs": [],
   "source": [
    "##Accesing List\n",
    "\n",
    "fruits=[\"apple\",\"orange\",\"cherry\",\"grpaes\"]\n"
   ]
  },
  {
   "cell_type": "code",
   "execution_count": 10,
   "id": "17bfc3b2",
   "metadata": {},
   "outputs": [
    {
     "name": "stdout",
     "output_type": "stream",
     "text": [
      "grpaes\n",
      "orange\n",
      "apple\n",
      "cherry\n"
     ]
    }
   ],
   "source": [
    "print(fruits[3])\n",
    "print(fruits[1])\n",
    "print(fruits[0])\n",
    "print(fruits[2])"
   ]
  },
  {
   "cell_type": "code",
   "execution_count": 4,
   "id": "d6a72cf0",
   "metadata": {},
   "outputs": [
    {
     "name": "stdout",
     "output_type": "stream",
     "text": [
      "['grpaes', 'cherry', 'orange', 'apple']\n"
     ]
    }
   ],
   "source": [
    "fruits=[\"apple\",\"orange\",\"cherry\",\"grpaes\"]\n",
    "print(fruits[::-1])\n"
   ]
  },
  {
   "cell_type": "code",
   "execution_count": 2,
   "id": "eb8a9b5e",
   "metadata": {},
   "outputs": [],
   "source": [
    "## Modifiying list \n",
    "fruits=[\"apple\",\"orange\",\"cherry\",\"grpaes\"]"
   ]
  },
  {
   "cell_type": "code",
   "execution_count": 12,
   "id": "ceee1bc5",
   "metadata": {},
   "outputs": [
    {
     "data": {
      "text/plain": [
       "['apple', 'banana', 'lemon', 'cherry', 'grpaes']"
      ]
     },
     "execution_count": 12,
     "metadata": {},
     "output_type": "execute_result"
    }
   ],
   "source": [
    "fruits"
   ]
  },
  {
   "cell_type": "code",
   "execution_count": 9,
   "id": "dc91b6f3",
   "metadata": {},
   "outputs": [
    {
     "name": "stdout",
     "output_type": "stream",
     "text": [
      "['apple', 'banana', 'orange', 'cherry', 'grpaes']\n"
     ]
    }
   ],
   "source": [
    "fruits=[\"apple\",\"orange\",\"cherry\",\"grpaes\"]\n",
    "fruits.insert(1,\"banana\")\n",
    "print(fruits)\n"
   ]
  },
  {
   "cell_type": "code",
   "execution_count": 11,
   "id": "e29e1f79",
   "metadata": {},
   "outputs": [
    {
     "name": "stdout",
     "output_type": "stream",
     "text": [
      "['apple', 'banana', 'lemon', 'cherry', 'grpaes']\n"
     ]
    }
   ],
   "source": [
    "fruits[2]=\"lemon\"\n",
    "print(fruits)"
   ]
  },
  {
   "cell_type": "code",
   "execution_count": 9,
   "id": "62e7c08e",
   "metadata": {},
   "outputs": [
    {
     "name": "stdout",
     "output_type": "stream",
     "text": [
      "['apple', 'l', 'e', 'm', 'o', 'n']\n"
     ]
    }
   ],
   "source": [
    "fruits[1:]=\"lemon\"\n",
    "print(fruits)"
   ]
  },
  {
   "cell_type": "code",
   "execution_count": 6,
   "id": "79955b2e",
   "metadata": {},
   "outputs": [],
   "source": [
    "fruits=[\"apple\",\"orange\",\"cherry\",\"grpaes\"]"
   ]
  },
  {
   "cell_type": "code",
   "execution_count": 3,
   "id": "c9804f20",
   "metadata": {},
   "outputs": [
    {
     "name": "stdout",
     "output_type": "stream",
     "text": [
      "['apple', 'orange', 'cherry', 'grpaes', 'kiwi']\n"
     ]
    }
   ],
   "source": [
    "##List methods \n",
    "\n",
    "fruits.append(\"kiwi\") ## add an item to the end\n",
    "print(fruits)\n",
    "\n"
   ]
  },
  {
   "cell_type": "code",
   "execution_count": 5,
   "id": "85c3ef84",
   "metadata": {},
   "outputs": [
    {
     "name": "stdout",
     "output_type": "stream",
     "text": [
      "['apple', 'watermelon', 'orange', 'cherry', 'grpaes', 'kiwi']\n"
     ]
    }
   ],
   "source": [
    "fruits.insert(1,\"watermelon\")\n",
    "print(fruits)"
   ]
  },
  {
   "cell_type": "code",
   "execution_count": null,
   "id": "fbbb1bbe",
   "metadata": {},
   "outputs": [
    {
     "name": "stdout",
     "output_type": "stream",
     "text": [
      "['apple', 'watermelon', 'cherry', 'grpaes', 'kiwi']\n"
     ]
    }
   ],
   "source": [
    "fruits.remove(\"orange\")  ## it is removing first occurence of an item\n",
    "print(fruits)"
   ]
  },
  {
   "cell_type": "code",
   "execution_count": null,
   "id": "6568c37d",
   "metadata": {},
   "outputs": [
    {
     "name": "stdout",
     "output_type": "stream",
     "text": [
      "kiwi\n",
      "['apple', 'watermelon', 'cherry', 'grpaes']\n"
     ]
    }
   ],
   "source": [
    "## Remove and return the last element \n",
    "popped_fruits=fruits.pop() ## it an remove last elament in the element\n",
    "print(popped_fruits)\n",
    "print(fruits)"
   ]
  },
  {
   "cell_type": "code",
   "execution_count": 8,
   "id": "0087cec6",
   "metadata": {},
   "outputs": [
    {
     "name": "stdout",
     "output_type": "stream",
     "text": [
      "2\n"
     ]
    }
   ],
   "source": [
    "index=fruits.index(\"cherry\")\n",
    "print(index)"
   ]
  },
  {
   "cell_type": "code",
   "execution_count": 9,
   "id": "8e3eed9e",
   "metadata": {},
   "outputs": [
    {
     "name": "stdout",
     "output_type": "stream",
     "text": [
      "1\n"
     ]
    }
   ],
   "source": [
    "fruits.insert(2,\"banana\")\n",
    "print(fruits.count(\"banana\"))\n"
   ]
  },
  {
   "cell_type": "code",
   "execution_count": null,
   "id": "63c5abf1",
   "metadata": {},
   "outputs": [],
   "source": []
  },
  {
   "cell_type": "code",
   "execution_count": null,
   "id": "a1aa0e9f",
   "metadata": {},
   "outputs": [],
   "source": [
    "fruits.sort()  ## sort the list ascending order"
   ]
  },
  {
   "cell_type": "code",
   "execution_count": 12,
   "id": "c5843019",
   "metadata": {},
   "outputs": [
    {
     "data": {
      "text/plain": [
       "['apple', 'banana', 'cherry', 'grpaes', 'watermelon']"
      ]
     },
     "execution_count": 12,
     "metadata": {},
     "output_type": "execute_result"
    }
   ],
   "source": [
    "fruits"
   ]
  },
  {
   "cell_type": "code",
   "execution_count": null,
   "id": "488e4ed3",
   "metadata": {},
   "outputs": [],
   "source": [
    "fruits.reverse()  ##  reverse the list "
   ]
  },
  {
   "cell_type": "code",
   "execution_count": 14,
   "id": "3ced4df7",
   "metadata": {},
   "outputs": [
    {
     "data": {
      "text/plain": [
       "['watermelon', 'grpaes', 'cherry', 'banana', 'apple']"
      ]
     },
     "execution_count": 14,
     "metadata": {},
     "output_type": "execute_result"
    }
   ],
   "source": [
    "fruits"
   ]
  },
  {
   "cell_type": "code",
   "execution_count": null,
   "id": "6bbb5f60",
   "metadata": {},
   "outputs": [
    {
     "name": "stdout",
     "output_type": "stream",
     "text": [
      "[]\n"
     ]
    }
   ],
   "source": [
    "fruits.clear()  ## it will remove all elements from the list\n",
    "print(fruits)"
   ]
  },
  {
   "cell_type": "code",
   "execution_count": null,
   "id": "0166f81c",
   "metadata": {},
   "outputs": [
    {
     "name": "stdout",
     "output_type": "stream",
     "text": [
      "[3, 4, 5]\n",
      "[1, 2, 3, 4, 5]\n",
      "[6, 7, 8, 9, 10]\n",
      "[1, 3, 5, 7, 9]\n",
      "[1, 4, 7, 10]\n",
      "[10, 9, 8, 7, 6, 5, 4, 3, 2, 1]\n",
      "[10, 8, 6, 4, 2]\n"
     ]
    }
   ],
   "source": [
    "## Slicing List \n",
    "\n",
    "numbers =[1,2,3,4,5,6,7,8,9,10]\n",
    "print(numbers[2:5])\n",
    "print(numbers[:5])\n",
    "print(numbers[5:])\n",
    "print(numbers[::2]) ## it means it will displsy one after one nmber from list \n",
    "print(numbers[::3]) ## it means it will displsy two after two number from list \n",
    "print(numbers[::-1])\n",
    "print(numbers[::-2])  ##it means it will displsy REVERSE two after two number from list \n",
    "\n",
    "\n",
    "\n"
   ]
  },
  {
   "cell_type": "code",
   "execution_count": null,
   "id": "1c6ab5ed",
   "metadata": {},
   "outputs": [
    {
     "data": {
      "text/plain": [
       "[1, 2, 3, 4, 5, 6, 7, 8, 9, 10]"
      ]
     },
     "execution_count": 17,
     "metadata": {},
     "output_type": "execute_result"
    }
   ],
   "source": [
    "numbers[::]  ## \"::\" means all the element the list  "
   ]
  },
  {
   "cell_type": "code",
   "execution_count": 1,
   "id": "f138d1f8",
   "metadata": {},
   "outputs": [
    {
     "name": "stdout",
     "output_type": "stream",
     "text": [
      "1\n",
      "2\n",
      "3\n",
      "4\n",
      "5\n",
      "6\n",
      "7\n",
      "8\n",
      "9\n",
      "10\n"
     ]
    }
   ],
   "source": [
    "## iterating Over List \n",
    "numbers =[1,2,3,4,5,6,7,8,9,10]\n",
    "for number in numbers:\n",
    "    print(number)"
   ]
  },
  {
   "cell_type": "code",
   "execution_count": 33,
   "id": "079de988",
   "metadata": {},
   "outputs": [
    {
     "name": "stdout",
     "output_type": "stream",
     "text": [
      "0 1\n",
      "1 2\n",
      "2 3\n",
      "3 4\n",
      "4 5\n",
      "5 6\n",
      "6 7\n",
      "7 8\n",
      "8 9\n",
      "9 10\n"
     ]
    }
   ],
   "source": [
    "## iterating with index \n",
    "numbers =[1,2,3,4,5,6,7,8,9,10]\n",
    "for index,number in enumerate(numbers):\n",
    "    print(index,number)"
   ]
  },
  {
   "cell_type": "code",
   "execution_count": 28,
   "id": "c3e9db28",
   "metadata": {},
   "outputs": [
    {
     "name": "stdout",
     "output_type": "stream",
     "text": [
      "[0, 1, 4, 9, 16, 25, 36, 49, 64, 81]\n"
     ]
    }
   ],
   "source": [
    "## List comperhension\n",
    "\n",
    "lst=[]\n",
    "for x in range(10):\n",
    "    lst.append(x**2)\n",
    "\n",
    "print(lst)"
   ]
  },
  {
   "cell_type": "code",
   "execution_count": null,
   "id": "59cdd2f7",
   "metadata": {},
   "outputs": [
    {
     "data": {
      "text/plain": [
       "[0, 1, 4, 9, 16, 25, 36, 49, 64, 81]"
      ]
     },
     "execution_count": 29,
     "metadata": {},
     "output_type": "execute_result"
    }
   ],
   "source": [
    "[x**2 for x in range(10)] "
   ]
  },
  {
   "cell_type": "markdown",
   "id": "bbfda36b",
   "metadata": {},
   "source": [
    "### List Comperhension\n",
    "\n",
    "Basic Syntax              [Experssion for item in iterable]\n",
    "\n",
    "with conditional logic    [Experssion for item in iterable if condition]\n",
    "\n",
    "Nested List comphrension  [Expression for item1 in iterable1 for item2 in iterable2]"
   ]
  },
  {
   "cell_type": "code",
   "execution_count": 36,
   "id": "d635e936",
   "metadata": {},
   "outputs": [
    {
     "name": "stdout",
     "output_type": "stream",
     "text": [
      "[0, 1, 4, 9, 16, 25, 36, 49, 64, 81]\n"
     ]
    }
   ],
   "source": [
    "## Basic List comphrension\n",
    "\n",
    "sqaure=[num**2 for num in range(10)]\n",
    "print(sqaure)"
   ]
  },
  {
   "cell_type": "code",
   "execution_count": null,
   "id": "cb8b2b10",
   "metadata": {},
   "outputs": [
    {
     "name": "stdout",
     "output_type": "stream",
     "text": [
      "[0, 2, 4, 6, 8]\n"
     ]
    }
   ],
   "source": [
    "## List Comprehension With if condition \n",
    "\n",
    "lst=[]\n",
    "for i in range(10):\n",
    "    if i%2==0:\n",
    "        lst.append(i)\n",
    "print(lst)\n",
    "\n",
    "               #OR"
   ]
  },
  {
   "cell_type": "code",
   "execution_count": null,
   "id": "426b4aa8",
   "metadata": {},
   "outputs": [
    {
     "name": "stdout",
     "output_type": "stream",
     "text": [
      "[0]\n",
      "[0, 2]\n",
      "[0, 2, 4]\n",
      "[0, 2, 4, 6]\n",
      "[0, 2, 4, 6, 8]\n"
     ]
    }
   ],
   "source": [
    "                  #OR\n",
    "lst=[]\n",
    "for i in range(10):\n",
    "    if i%2==0:\n",
    "        lst.append(i)\n",
    "        print(lst)\n"
   ]
  },
  {
   "cell_type": "code",
   "execution_count": 40,
   "id": "8bcdc63a",
   "metadata": {},
   "outputs": [
    {
     "name": "stdout",
     "output_type": "stream",
     "text": [
      "[0, 2, 4, 6, 8]\n"
     ]
    }
   ],
   "source": [
    "even_numbers=[num for num in range(10) if num%2==0]\n",
    "print(even_numbers)"
   ]
  },
  {
   "cell_type": "code",
   "execution_count": 42,
   "id": "c38edc14",
   "metadata": {},
   "outputs": [
    {
     "name": "stdout",
     "output_type": "stream",
     "text": [
      "[0, 3, 6, 9]\n"
     ]
    }
   ],
   "source": [
    "odd_numbers=[num for num in range(10) if num%3==0]\n",
    "print(odd_numbers)"
   ]
  },
  {
   "cell_type": "code",
   "execution_count": 46,
   "id": "27541cb1",
   "metadata": {},
   "outputs": [
    {
     "name": "stdout",
     "output_type": "stream",
     "text": [
      "[(1, 'a'), (1, 'b'), (1, 'c'), (1, 'd'), (2, 'a'), (2, 'b'), (2, 'c'), (2, 'd'), (3, 'a'), (3, 'b'), (3, 'c'), (3, 'd'), (4, 'a'), (4, 'b'), (4, 'c'), (4, 'd')]\n"
     ]
    }
   ],
   "source": [
    "## Nested List comphrension\n",
    "\n",
    "lst1=[1,2,3,4]\n",
    "lst2=['a','b','c','d']\n",
    "\n",
    "pair=[(i,j) for i in lst1 for j in lst2]\n",
    "\n",
    "print(pair)"
   ]
  },
  {
   "cell_type": "code",
   "execution_count": 47,
   "id": "2bc8d989",
   "metadata": {},
   "outputs": [
    {
     "name": "stdout",
     "output_type": "stream",
     "text": [
      "[5, 5, 6, 4, 13]\n"
     ]
    }
   ],
   "source": [
    "## List comphrension with function calls \n",
    "\n",
    "words=[\"hello\",\"world\",\"python\",\"list\",\"comprehension\"]\n",
    "lengths=[len(word) for word in words]\n",
    "print(lengths)"
   ]
  },
  {
   "cell_type": "markdown",
   "id": "3912c8d9",
   "metadata": {},
   "source": [
    "### Real world usecase if list \n",
    "\n",
    "\n",
    "## Example 1: Create a To Do List To Keep Track of Tasks"
   ]
  },
  {
   "cell_type": "code",
   "execution_count": 1,
   "id": "2f859818",
   "metadata": {},
   "outputs": [
    {
     "name": "stdout",
     "output_type": "stream",
     "text": [
      "dont to pay unyility bills\n",
      "To Do List remaining\n",
      "Buy Groceries\n",
      "pay bills\n",
      "schedule meeting\n",
      "go for a run\n"
     ]
    }
   ],
   "source": [
    "to_do_list=[\"Buy Groceries\",\"clean the house\",\"pay bills\"]\n",
    "\n",
    "to_do_list.append(\"schedule meeting\")\n",
    "to_do_list.append(\"go for a run\")\n",
    "\n",
    "to_do_list.remove(\"clean the house\")\n",
    "\n",
    "\n",
    "if \"pay bills\" in to_do_list:\n",
    "    print(\"dont to pay unyility bills\")\n",
    "\n",
    "print(\"To Do List remaining\")\n",
    "for task in to_do_list:\n",
    "    print(f\"{task}\")"
   ]
  },
  {
   "cell_type": "markdown",
   "id": "0f7bb9e6",
   "metadata": {},
   "source": [
    "### Example 2 : Organizing Student Grades"
   ]
  },
  {
   "cell_type": "code",
   "execution_count": 2,
   "id": "131b2f5d",
   "metadata": {},
   "outputs": [
    {
     "name": "stdout",
     "output_type": "stream",
     "text": [
      "Average grade: 88.0\n",
      "Highest grade: 95\n",
      "Lowest grade: 78\n"
     ]
    }
   ],
   "source": [
    "grades = [85, 92, 78, 90, 88]\n",
    "grades.append(95)\n",
    "average_grade = sum(grades) / len(grades)\n",
    "highest_grade = max(grades)\n",
    "lowest_grade = min(grades)\n",
    "print(f\"Average grade: {average_grade}\")\n",
    "print(f\"Highest grade: {highest_grade}\")\n",
    "print(f\"Lowest grade: {lowest_grade}\")"
   ]
  },
  {
   "cell_type": "markdown",
   "id": "81f833e7",
   "metadata": {},
   "source": [
    "### Example 3: Managing an Inventory"
   ]
  },
  {
   "cell_type": "markdown",
   "id": "c726093d",
   "metadata": {},
   "source": [
    "use a list to manage inventory items in a store "
   ]
  },
  {
   "cell_type": "code",
   "execution_count": 3,
   "id": "e28c2f81",
   "metadata": {},
   "outputs": [
    {
     "name": "stdout",
     "output_type": "stream",
     "text": [
      "oranges are in stock.\n",
      "Inventory list:\n",
      "- apples\n",
      "- oranges\n",
      "- grapes\n",
      "- strawberries\n"
     ]
    }
   ],
   "source": [
    "inventory = [\"apples\", \"bananas\", \"oranges\", \"grapes\"]\n",
    "inventory.append(\"strawberries\")\n",
    "inventory.remove(\"bananas\")\n",
    "item = \"oranges\"\n",
    "if item in inventory:\n",
    "    print(f\"{item} are in stock.\")\n",
    "else:\n",
    "    print(f\"{item} are out of stock.\")\n",
    "print(\"Inventory list:\")\n",
    "for fruit in inventory:\n",
    "    print(f\"- {fruit}\")"
   ]
  },
  {
   "cell_type": "markdown",
   "id": "fe88f590",
   "metadata": {},
   "source": [
    "### Example 4: Collecting and Analyzing User Feedback"
   ]
  },
  {
   "cell_type": "markdown",
   "id": "499b466f",
   "metadata": {},
   "source": [
    "use a list to collect and analyze user feedback "
   ]
  },
  {
   "cell_type": "code",
   "execution_count": 4,
   "id": "0c1bc885",
   "metadata": {},
   "outputs": [
    {
     "name": "stdout",
     "output_type": "stream",
     "text": [
      "Positive feedback count: 2\n",
      "User feedback comments:\n",
      "- Great service.\n",
      "- Very satisfied.\n",
      "- Could be better.\n",
      "- Excellent experience.\n",
      "- Not happy with the service.\n"
     ]
    }
   ],
   "source": [
    "feedbacks = [\n",
    "    \"Great service.\",\n",
    "    \"Very satisfied.\",\n",
    "    \"Could be better.\",\n",
    "    \"Excellent experience.\",\n",
    "    \"Not happy with the service.\"\n",
    "]\n",
    "positive_feedback_count = 0\n",
    "for comment in feedbacks:\n",
    "    if \"great\" in comment.lower() or \"excellent\" in comment.lower():\n",
    "        positive_feedback_count += 1\n",
    "print(f\"Positive feedback count: {positive_feedback_count}\")\n",
    "print(\"User feedback comments:\")\n",
    "for comment in feedbacks:\n",
    "    print(f\"- {comment}\")"
   ]
  },
  {
   "cell_type": "code",
   "execution_count": null,
   "id": "e55bdc59",
   "metadata": {},
   "outputs": [],
   "source": []
  }
 ],
 "metadata": {
  "kernelspec": {
   "display_name": "Python 3",
   "language": "python",
   "name": "python3"
  },
  "language_info": {
   "codemirror_mode": {
    "name": "ipython",
    "version": 3
   },
   "file_extension": ".py",
   "mimetype": "text/x-python",
   "name": "python",
   "nbconvert_exporter": "python",
   "pygments_lexer": "ipython3",
   "version": "3.13.0"
  }
 },
 "nbformat": 4,
 "nbformat_minor": 5
}
